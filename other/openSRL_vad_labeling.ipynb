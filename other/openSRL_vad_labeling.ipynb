{
 "cells": [
  {
   "cell_type": "code",
   "execution_count": 1,
   "id": "87cbdd0b96559d5e",
   "metadata": {
    "ExecuteTime": {
     "end_time": "2024-09-04T19:35:20.507238Z",
     "start_time": "2024-09-04T19:35:20.504914Z"
    }
   },
   "outputs": [],
   "source": [
    "from other.audio_utils import *\n",
    "import os\n",
    "from tqdm import tqdm\n",
    "import numpy as np\n",
    "import webrtcvad"
   ]
  },
  {
   "cell_type": "code",
   "execution_count": 2,
   "id": "cb4fd30a1a8f0f5c",
   "metadata": {
    "ExecuteTime": {
     "end_time": "2024-09-04T19:35:20.510496Z",
     "start_time": "2024-09-04T19:35:20.507238Z"
    }
   },
   "outputs": [],
   "source": [
    "# 1. sample_rate is 8000\n",
    "target_sample_rate = 8000\n",
    "# 2. vad_window_ms is 30ms\n",
    "vad_window_ms = [10, 20, 30][2]\n",
    "# 3. vad_overlap_percent is 50%\n",
    "vad_overlap_ratio = 0.5\n",
    "# 4. label_region_ms is 100ms\n",
    "label_region_s = 0.1\n",
    "# 5. label_overlap_percent is 50%\n",
    "label_overlap_ratio = 0.5\n",
    "# 6. decision_function_name is \"max\"\n",
    "deciding_method = [\"max\"][0]"
   ]
  },
  {
   "cell_type": "code",
   "execution_count": 3,
   "id": "fd6fdbf9523ce23d",
   "metadata": {
    "ExecuteTime": {
     "end_time": "2024-09-04T19:35:20.515155Z",
     "start_time": "2024-09-04T19:35:20.510496Z"
    }
   },
   "outputs": [],
   "source": [
    "class WebrtcVadLabelMaker:\n",
    "    @staticmethod\n",
    "    def max_count_deciding(items) -> bool:\n",
    "        counts = np.bincount(items)\n",
    "        return bool(np.argmax(counts))\n",
    "\n",
    "    VAD_WIDTHS = [10, 20, 30]\n",
    "\n",
    "    def __init__(self, mode=2, vad_window_ms=30, vad_overlap_ratio=0, deciding_method='max'):\n",
    "        self.vad_window_ms = vad_window_ms\n",
    "        self.vad_overlap_ratio = vad_overlap_ratio\n",
    "        self.vad = webrtcvad.Vad(mode)\n",
    "\n",
    "        self.DECIDING_FUNCTIONS_DICT = {'max': WebrtcVadLabelMaker.max_count_deciding}\n",
    "        self.decider = self.DECIDING_FUNCTIONS_DICT[deciding_method]\n",
    "\n",
    "    def __call__(self, au: AudioWorker, label_region_s=0.1, label_overlap_ratio=0.5):\n",
    "        # need to be commented, bc its overcomplicated\n",
    "        simple_wave = au.wave.squeeze(0)\n",
    "        vad_window = int(self.vad_window_ms * au.rate / 1000)\n",
    "        vad_hop = int(vad_window * self.vad_overlap_ratio)\n",
    "        frames = torch.nn.functional.unfold(simple_wave.unsqueeze(0).unsqueeze(0).unsqueeze(-1),\n",
    "                                            kernel_size=(vad_window, 1),\n",
    "                                            stride=(vad_hop, 1)).squeeze(0).T\n",
    "        speech_mask = []\n",
    "        for frame in frames:\n",
    "            bytes_like = frame.mul(32767).to(torch.int16).numpy().tobytes()\n",
    "            is_speech = self.vad.is_speech(bytes_like, au.rate)\n",
    "            speech_mask.append(is_speech)\n",
    "\n",
    "        item_wise_mask = np.full_like(simple_wave, False, dtype=bool)\n",
    "        for i, is_speech in enumerate(speech_mask):\n",
    "            item_wise_mask[vad_hop * i:vad_hop * i + vad_window] = is_speech or item_wise_mask[\n",
    "                                                                                vad_hop * i:vad_hop * i + vad_window]\n",
    "\n",
    "        reg_width = int(au.rate * label_region_s)\n",
    "        region_hop_width = int(reg_width * (1 - label_overlap_ratio))\n",
    "        count = int(np.floor((len(item_wise_mask) - reg_width) / region_hop_width) + 1)\n",
    "        region_labels = []\n",
    "        for i in range(count):\n",
    "            start = i * region_hop_width\n",
    "            region_labels.append(\"01\"[self.decider(item_wise_mask[start:start + reg_width])])\n",
    "\n",
    "        return item_wise_mask, region_labels"
   ]
  },
  {
   "cell_type": "code",
   "execution_count": 4,
   "id": "68f0353eee9da988",
   "metadata": {
    "ExecuteTime": {
     "end_time": "2024-09-04T19:35:21.339224Z",
     "start_time": "2024-09-04T19:35:20.515155Z"
    }
   },
   "outputs": [
    {
     "name": "stdout",
     "output_type": "stream",
     "text": [
      "8000_30_50_100_50_max.csv\n",
      "buffer\\8000_30_50_100_50_max.csv\n"
     ]
    },
    {
     "ename": "",
     "evalue": "",
     "output_type": "error",
     "traceback": [
      "\u001b[1;31mThe Kernel crashed while executing code in the current cell or a previous cell. \n",
      "\u001b[1;31mPlease review the code in the cell(s) to identify a possible cause of the failure. \n",
      "\u001b[1;31mClick <a href='https://aka.ms/vscodeJupyterKernelCrash'>here</a> for more info. \n",
      "\u001b[1;31mView Jupyter <a href='command:jupyter.viewOutput'>log</a> for further details."
     ]
    }
   ],
   "source": [
    "openSLR_data_directory = 'data/train-clean-100'\n",
    "where_to_save = 'buffer'\n",
    "\n",
    "vad = WebrtcVadLabelMaker(2, vad_window_ms, vad_overlap_ratio, deciding_method)\n",
    "\n",
    "audio_files_paths = OpenSLRDataset.get_files_by_extension(openSLR_data_directory, ext='flac')\n",
    "\n",
    "txt_file_path = f'{target_sample_rate}_{vad_window_ms}_{int(vad_overlap_ratio * 100)}_{int(label_region_s * 1000)}_{int(label_overlap_ratio * 100)}_{deciding_method}.csv'\n",
    "print(txt_file_path)\n",
    "os.makedirs(where_to_save, exist_ok=True)\n",
    "txt_file_path = os.path.join(where_to_save, txt_file_path)\n",
    "print(txt_file_path)"
   ]
  },
  {
   "cell_type": "code",
   "execution_count": 17,
   "id": "aec8fc383f9551dc",
   "metadata": {
    "ExecuteTime": {
     "end_time": "2024-09-04T19:42:19.207292Z",
     "start_time": "2024-09-04T19:35:21.339224Z"
    }
   },
   "outputs": [
    {
     "name": "stderr",
     "output_type": "stream",
     "text": [
      "  1%|          | 336/28539 [00:20<29:14, 16.07it/s]"
     ]
    }
   ],
   "source": [
    "if len(audio_files_paths) > 0:\n",
    "    with open(txt_file_path, 'w') as file:\n",
    "        file.write(\"filename,labels\" + '\\n')\n",
    "\n",
    "        for audio_path in tqdm(audio_files_paths, total=len(audio_files_paths)):\n",
    "            aw = AudioWorker(os.path.join(openSLR_data_directory, audio_path)).load()\n",
    "            aw.resample(target_sample_rate)\n",
    "            _, labels = vad(aw)\n",
    "            path_parts = audio_path.split(os.sep)\n",
    "            filename = path_parts[-1]\n",
    "\n",
    "            file.write(filename + ',' + ''.join(labels) + '\\n')\n",
    "\n",
    "else:\n",
    "    print(len(audio_files_paths), \"audio files not found\")"
   ]
  },
  {
   "cell_type": "code",
   "execution_count": 18,
   "id": "8bb51239",
   "metadata": {
    "ExecuteTime": {
     "end_time": "2024-09-04T19:42:19.222135Z",
     "start_time": "2024-09-04T19:42:19.207292Z"
    }
   },
   "outputs": [],
   "source": [
    "target = \"3699-47246-0026.flac\"\n",
    "reader, chapter, *_ = target.split(\"-\")\n",
    "aw = AudioWorker(os.path.join(openSLR_data_directory, reader, chapter, target)).load()\n",
    "aw.resample(target_sample_rate)\n",
    "_, labels = vad(aw)\n"
   ]
  },
  {
   "cell_type": "code",
   "execution_count": 19,
   "id": "cff02a30110a273e",
   "metadata": {
    "ExecuteTime": {
     "end_time": "2024-09-04T19:42:19.225809Z",
     "start_time": "2024-09-04T19:42:19.222135Z"
    }
   },
   "outputs": [
    {
     "name": "stdout",
     "output_type": "stream",
     "text": [
      "torch.Size([1, 72000])\n",
      "178.0\n",
      "72000 800 400 179\n"
     ]
    }
   ],
   "source": [
    "print(aw.wave.shape)\n",
    "\n",
    "items = aw.wave.size(1)\n",
    "reg_width = int(aw.rate * label_region_s)\n",
    "region_hop_width = int(reg_width * (1 - label_overlap_ratio))\n",
    "count = int(np.floor((items - reg_width) / region_hop_width) + 1)\n",
    "\n",
    "print((items - reg_width) / region_hop_width)\n",
    "\n",
    "print(items, reg_width, region_hop_width, count)"
   ]
  },
  {
   "cell_type": "code",
   "execution_count": 19,
   "id": "406e2a4d9b48ceeb",
   "metadata": {
    "ExecuteTime": {
     "end_time": "2024-09-04T19:42:19.227837Z",
     "start_time": "2024-09-04T19:42:19.225809Z"
    }
   },
   "outputs": [],
   "source": []
  }
 ],
 "metadata": {
  "colab": {
   "provenance": []
  },
  "kernelspec": {
   "display_name": "Python 3",
   "language": "python",
   "name": "python3"
  },
  "language_info": {
   "codemirror_mode": {
    "name": "ipython",
    "version": 3
   },
   "file_extension": ".py",
   "mimetype": "text/x-python",
   "name": "python",
   "nbconvert_exporter": "python",
   "pygments_lexer": "ipython3",
   "version": "3.11.4"
  }
 },
 "nbformat": 4,
 "nbformat_minor": 5
}
