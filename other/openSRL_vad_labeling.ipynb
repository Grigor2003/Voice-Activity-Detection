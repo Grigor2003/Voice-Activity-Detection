{
 "cells": [
  {
   "cell_type": "code",
   "id": "87cbdd0b96559d5e",
   "metadata": {
    "ExecuteTime": {
     "end_time": "2024-11-26T18:36:25.502012Z",
     "start_time": "2024-11-26T18:36:23.139156Z"
    }
   },
   "source": [
    "import random\n",
    "\n",
    "from other.audio_utils import *\n",
    "import os\n",
    "from tqdm import tqdm\n",
    "import numpy as np\n",
    "import webrtcvad"
   ],
   "outputs": [],
   "execution_count": 1
  },
  {
   "cell_type": "code",
   "id": "cb4fd30a1a8f0f5c",
   "metadata": {
    "ExecuteTime": {
     "end_time": "2024-11-26T18:36:25.505032Z",
     "start_time": "2024-11-26T18:36:25.502012Z"
    }
   },
   "source": [
    "target_sample_rate = 8000\n",
    "vad_window_ms = [10, 20, 30][2]\n",
    "vad_overlap_ratio = 0.5"
   ],
   "outputs": [],
   "execution_count": 2
  },
  {
   "cell_type": "code",
   "id": "fd6fdbf9523ce23d",
   "metadata": {
    "ExecuteTime": {
     "end_time": "2024-11-26T18:36:25.509368Z",
     "start_time": "2024-11-26T18:36:25.505032Z"
    }
   },
   "source": [
    "class WebrtcVadLabelMaker:\n",
    "    def __init__(self, mode=2, vad_window_ms=30, vad_overlap_ratio=0):\n",
    "        self.vad_window_ms = vad_window_ms\n",
    "        self.vad_overlap_ratio = vad_overlap_ratio\n",
    "        self.vad = webrtcvad.Vad(mode)\n",
    "\n",
    "    def __call__(self, au: AudioWorker, label_region_s=0.1, label_overlap_ratio=0.5):\n",
    "        # need to be commented, bc its overcomplicated\n",
    "        simple_wave = au.wave.squeeze(0)\n",
    "        vad_window = int(self.vad_window_ms * au.rate / 1000)\n",
    "        vad_hop = int(vad_window * self.vad_overlap_ratio)\n",
    "        frames = torch.nn.functional.unfold(simple_wave.unsqueeze(0).unsqueeze(0).unsqueeze(-1),\n",
    "                                            kernel_size=(vad_window, 1),\n",
    "                                            stride=(vad_hop, 1)).squeeze(0).T\n",
    "        speech_mask = []\n",
    "        for frame in frames:\n",
    "            bytes_like = frame.mul(32767).to(torch.int16).numpy().tobytes()\n",
    "            is_speech = self.vad.is_speech(bytes_like, au.rate)\n",
    "            speech_mask.append(is_speech)\n",
    "\n",
    "        item_wise_mask = np.full_like(simple_wave, False, dtype=bool)\n",
    "        for i, is_speech in enumerate(speech_mask):\n",
    "            \n",
    "            item_wise_mask[vad_hop * i:vad_hop * i + vad_window] = is_speech or item_wise_mask[\n",
    "                                                                                vad_hop * i:vad_hop * i + vad_window]\n",
    "\n",
    "        return item_wise_mask"
   ],
   "outputs": [],
   "execution_count": 3
  },
  {
   "cell_type": "code",
   "id": "68f0353eee9da988",
   "metadata": {
    "ExecuteTime": {
     "end_time": "2024-11-26T19:08:57.214670Z",
     "start_time": "2024-11-26T19:08:56.321107Z"
    }
   },
   "source": [
    "openSLR_data_directory, ext = '../data/train-clean-100', 'flac'\n",
    "# openSLR_data_directory, ext = \"../data/MSDWild/raw_wav\", 'wav'\n",
    "where_to_save = '../buffer'\n",
    "\n",
    "vad = WebrtcVadLabelMaker(2, vad_window_ms, vad_overlap_ratio)\n",
    "\n",
    "audio_files_paths = get_files_by_extension(openSLR_data_directory, ext=ext, rel=True)\n",
    "\n",
    "labels_path = f'webrtc_labels_{target_sample_rate}_{vad_window_ms}_{int(vad_overlap_ratio * 100)}'\n",
    "labels_path = os.path.join(where_to_save, labels_path)\n",
    "os.makedirs(labels_path, exist_ok=True)\n",
    "data_samples = len(audio_files_paths)\n",
    "print(data_samples, \"files like:\", np.random.choice(audio_files_paths))\n",
    "print(labels_path)"
   ],
   "outputs": [
    {
     "name": "stdout",
     "output_type": "stream",
     "text": [
      "28539 files like: 4640\\19187\\4640-19187-0005.flac\n",
      "../buffer\\webrtc_labels_8000_30_50\n"
     ]
    }
   ],
   "execution_count": 67
  },
  {
   "cell_type": "code",
   "id": "aec8fc383f9551dc",
   "metadata": {
    "ExecuteTime": {
     "end_time": "2024-11-26T19:10:10.185284Z",
     "start_time": "2024-11-26T19:08:57.754826Z"
    }
   },
   "source": [
    "if data_samples > 0:\n",
    "    for audio_path in tqdm(audio_files_paths[:], total=data_samples):\n",
    "        aw = AudioWorker(os.path.join(openSLR_data_directory, audio_path)).load()\n",
    "        aw.resample(target_sample_rate)\n",
    "        iwm = vad(aw)\n",
    "        \n",
    "        filename = os.path.basename(audio_path)\n",
    "        np.packbits(iwm).tofile(os.path.join(labels_path, f\"{filename}.bin\"))\n",
    "\n",
    "        \n",
    "\n",
    "else:\n",
    "    print(len(audio_files_paths), \"audio files not found\")"
   ],
   "outputs": [
    {
     "name": "stderr",
     "output_type": "stream",
     "text": [
      " 17%|█▋        | 4972/28539 [01:12<05:43, 68.66it/s]\n"
     ]
    },
    {
     "ename": "KeyboardInterrupt",
     "evalue": "",
     "output_type": "error",
     "traceback": [
      "\u001B[1;31m---------------------------------------------------------------------------\u001B[0m",
      "\u001B[1;31mKeyboardInterrupt\u001B[0m                         Traceback (most recent call last)",
      "Cell \u001B[1;32mIn[68], line 5\u001B[0m\n\u001B[0;32m      3\u001B[0m aw \u001B[38;5;241m=\u001B[39m AudioWorker(os\u001B[38;5;241m.\u001B[39mpath\u001B[38;5;241m.\u001B[39mjoin(openSLR_data_directory, audio_path))\u001B[38;5;241m.\u001B[39mload()\n\u001B[0;32m      4\u001B[0m aw\u001B[38;5;241m.\u001B[39mresample(target_sample_rate)\n\u001B[1;32m----> 5\u001B[0m iwm \u001B[38;5;241m=\u001B[39m \u001B[43mvad\u001B[49m\u001B[43m(\u001B[49m\u001B[43maw\u001B[49m\u001B[43m)\u001B[49m\n\u001B[0;32m      7\u001B[0m filename \u001B[38;5;241m=\u001B[39m os\u001B[38;5;241m.\u001B[39mpath\u001B[38;5;241m.\u001B[39mbasename(audio_path)\n\u001B[0;32m      8\u001B[0m np\u001B[38;5;241m.\u001B[39mpackbits(iwm)\u001B[38;5;241m.\u001B[39mtofile(os\u001B[38;5;241m.\u001B[39mpath\u001B[38;5;241m.\u001B[39mjoin(labels_path, \u001B[38;5;124mf\u001B[39m\u001B[38;5;124m\"\u001B[39m\u001B[38;5;132;01m{\u001B[39;00mfilename\u001B[38;5;132;01m}\u001B[39;00m\u001B[38;5;124m.bin\u001B[39m\u001B[38;5;124m\"\u001B[39m))\n",
      "Cell \u001B[1;32mIn[3], line 17\u001B[0m, in \u001B[0;36mWebrtcVadLabelMaker.__call__\u001B[1;34m(self, au, label_region_s, label_overlap_ratio)\u001B[0m\n\u001B[0;32m     15\u001B[0m speech_mask \u001B[38;5;241m=\u001B[39m []\n\u001B[0;32m     16\u001B[0m \u001B[38;5;28;01mfor\u001B[39;00m frame \u001B[38;5;129;01min\u001B[39;00m frames:\n\u001B[1;32m---> 17\u001B[0m     bytes_like \u001B[38;5;241m=\u001B[39m \u001B[43mframe\u001B[49m\u001B[38;5;241;43m.\u001B[39;49m\u001B[43mmul\u001B[49m\u001B[43m(\u001B[49m\u001B[38;5;241;43m32767\u001B[39;49m\u001B[43m)\u001B[49m\u001B[38;5;241;43m.\u001B[39;49m\u001B[43mto\u001B[49m\u001B[43m(\u001B[49m\u001B[43mtorch\u001B[49m\u001B[38;5;241;43m.\u001B[39;49m\u001B[43mint16\u001B[49m\u001B[43m)\u001B[49m\u001B[38;5;241m.\u001B[39mnumpy()\u001B[38;5;241m.\u001B[39mtobytes()\n\u001B[0;32m     18\u001B[0m     is_speech \u001B[38;5;241m=\u001B[39m \u001B[38;5;28mself\u001B[39m\u001B[38;5;241m.\u001B[39mvad\u001B[38;5;241m.\u001B[39mis_speech(bytes_like, au\u001B[38;5;241m.\u001B[39mrate)\n\u001B[0;32m     19\u001B[0m     speech_mask\u001B[38;5;241m.\u001B[39mappend(is_speech)\n",
      "\u001B[1;31mKeyboardInterrupt\u001B[0m: "
     ]
    }
   ],
   "execution_count": 68
  },
  {
   "metadata": {
    "ExecuteTime": {
     "end_time": "2024-11-26T18:55:44.650989Z",
     "start_time": "2024-11-26T18:55:44.647326Z"
    }
   },
   "cell_type": "code",
   "source": "",
   "id": "becae7e161470406",
   "outputs": [
    {
     "data": {
      "text/plain": [
       "array([1, 1, 1, ..., 0, 0, 0], dtype=uint8)"
      ]
     },
     "execution_count": 49,
     "metadata": {},
     "output_type": "execute_result"
    }
   ],
   "execution_count": 49
  },
  {
   "metadata": {
    "ExecuteTime": {
     "end_time": "2024-11-26T18:01:32.079204Z",
     "start_time": "2024-11-26T18:01:20.440314Z"
    }
   },
   "cell_type": "code",
   "source": [
    "from numpy import histogram\n",
    "\n",
    "audio_files_paths = get_files_by_extension(\"../data/MSDWild/raw_wav\", ext='wav', rel=False)\n",
    "\n",
    "means = []\n",
    "maxes = []\n",
    "stds = []\n",
    "mines = []\n",
    "for audio_path in tqdm(audio_files_paths[:3000]):\n",
    "    aw = AudioWorker(audio_path).load()\n",
    "    \n",
    "    w = aw.wave\n",
    "    E = w ** 2\n",
    "    means.append(E.mean())\n",
    "    stds.append(E.std())\n",
    "    \n",
    "    mines.append(E.min())\n",
    "    maxes.append(E.max())\n",
    "    \n",
    "    \n",
    "    "
   ],
   "id": "b38f29741940936b",
   "outputs": [
    {
     "name": "stderr",
     "output_type": "stream",
     "text": [
      "100%|██████████| 3000/3000 [00:11<00:00, 258.11it/s]\n"
     ]
    }
   ],
   "execution_count": 45
  },
  {
   "metadata": {
    "ExecuteTime": {
     "end_time": "2024-11-26T18:01:33.601746Z",
     "start_time": "2024-11-26T18:01:33.509734Z"
    }
   },
   "cell_type": "code",
   "source": "plt.hist(means, bins=100);",
   "id": "9b746886fef98c00",
   "outputs": [
    {
     "data": {
      "text/plain": [
       "<Figure size 640x480 with 1 Axes>"
      ],
      "image/png": "[encoded data removed]"
     },
     "metadata": {},
     "output_type": "display_data"
    }
   ],
   "execution_count": 46
  },
  {
   "metadata": {
    "ExecuteTime": {
     "end_time": "2024-11-26T18:01:34.571483Z",
     "start_time": "2024-11-26T18:01:34.475500Z"
    }
   },
   "cell_type": "code",
   "source": "plt.hist(stds, bins=100);\n",
   "id": "6da601a215bc7aaf",
   "outputs": [
    {
     "data": {
      "text/plain": [
       "<Figure size 640x480 with 1 Axes>"
      ],
      "image/png": "[encoded data removed]"
     },
     "metadata": {},
     "output_type": "display_data"
    }
   ],
   "execution_count": 47
  },
  {
   "metadata": {
    "ExecuteTime": {
     "end_time": "2024-11-26T18:01:35.271621Z",
     "start_time": "2024-11-26T18:01:35.157564Z"
    }
   },
   "cell_type": "code",
   "source": "plt.hist(maxes, bins=100);\n",
   "id": "977739b854885a61",
   "outputs": [
    {
     "data": {
      "text/plain": [
       "<Figure size 640x480 with 1 Axes>"
      ],
      "image/png": "[encoded data removed]"
     },
     "metadata": {},
     "output_type": "display_data"
    }
   ],
   "execution_count": 48
  },
  {
   "metadata": {
    "ExecuteTime": {
     "end_time": "2024-11-26T18:01:35.735296Z",
     "start_time": "2024-11-26T18:01:35.644675Z"
    }
   },
   "cell_type": "code",
   "source": "plt.hist(mines, bins=100);\n",
   "id": "cf6eea4036029a46",
   "outputs": [
    {
     "data": {
      "text/plain": [
       "<Figure size 640x480 with 1 Axes>"
      ],
      "image/png": "[encoded data removed]"
     },
     "metadata": {},
     "output_type": "display_data"
    }
   ],
   "execution_count": 49
  },
  {
   "metadata": {},
   "cell_type": "code",
   "source": "",
   "id": "bbe4806bd5bb9488",
   "outputs": [],
   "execution_count": null
  },
  {
   "metadata": {},
   "cell_type": "code",
   "source": "",
   "id": "620ef4ef0d88a20e",
   "outputs": [],
   "execution_count": null
  },
  {
   "cell_type": "code",
   "id": "8bb51239",
   "metadata": {},
   "source": [
    "target = \"3699-47246-0026.flac\"\n",
    "reader, chapter, *_ = target.split(\"-\")\n",
    "aw = AudioWorker(os.path.join(openSLR_data_directory, reader, chapter, target)).load()\n",
    "aw.resample(target_sample_rate)\n",
    "_, labels = vad(aw)\n"
   ],
   "outputs": [],
   "execution_count": null
  },
  {
   "cell_type": "code",
   "id": "cff02a30110a273e",
   "metadata": {},
   "source": [
    "print(aw.wave.shape)\n",
    "\n",
    "items = aw.wave.size(1)\n",
    "reg_width = int(aw.rate * label_region_s)\n",
    "region_hop_width = int(reg_width * (1 - label_overlap_ratio))\n",
    "count = int(np.floor((items - reg_width) / region_hop_width) + 1)\n",
    "\n",
    "print((items - reg_width) / region_hop_width)\n",
    "\n",
    "print(items, reg_width, region_hop_width, count)"
   ],
   "outputs": [],
   "execution_count": null
  },
  {
   "cell_type": "code",
   "id": "406e2a4d9b48ceeb",
   "metadata": {},
   "source": [],
   "outputs": [],
   "execution_count": null
  }
 ],
 "metadata": {
  "colab": {
   "provenance": []
  },
  "kernelspec": {
   "display_name": "Python 3",
   "language": "python",
   "name": "python3"
  },
  "language_info": {
   "codemirror_mode": {
    "name": "ipython",
    "version": 3
   },
   "file_extension": ".py",
   "mimetype": "text/x-python",
   "name": "python",
   "nbconvert_exporter": "python",
   "pygments_lexer": "ipython3",
   "version": "3.11.4"
  }
 },
 "nbformat": 4,
 "nbformat_minor": 5
}
