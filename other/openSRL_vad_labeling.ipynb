{
 "cells": [
  {
   "metadata": {
    "ExecuteTime": {
     "end_time": "2024-11-28T14:12:13.302660Z",
     "start_time": "2024-11-28T14:12:13.299754Z"
    }
   },
   "cell_type": "code",
   "source": [
    "import wave\n",
    "\n",
    "from other.audio_utils import *\n",
    "import os\n",
    "from tqdm import tqdm\n",
    "import numpy as np\n",
    "import webrtcvad\n",
    "import contextlib\n",
    "import soundfile as sf"
   ],
   "id": "87cbdd0b96559d5e",
   "outputs": [],
   "execution_count": 38
  },
  {
   "metadata": {
    "ExecuteTime": {
     "end_time": "2024-11-28T14:12:13.308529Z",
     "start_time": "2024-11-28T14:12:13.306665Z"
    }
   },
   "cell_type": "code",
   "source": [
    "target_sample_rate = 8000\n",
    "vad_window_ms = [10, 20, 30][0]\n",
    "vad_overlap_ratio = 0.5"
   ],
   "id": "cb4fd30a1a8f0f5c",
   "outputs": [],
   "execution_count": 39
  },
  {
   "metadata": {
    "ExecuteTime": {
     "end_time": "2024-11-28T14:12:13.317376Z",
     "start_time": "2024-11-28T14:12:13.313008Z"
    }
   },
   "cell_type": "code",
   "source": [
    "class WebrtcVadLabelMaker:\n",
    "    @staticmethod\n",
    "    def read_wave(path):\n",
    "        ext = os.path.splitext(path)[1]\n",
    "        if ext == '.wav':\n",
    "            with contextlib.closing(wave.open(path, 'rb')) as wf:\n",
    "                num_channels = wf.getnchannels()\n",
    "                assert num_channels == 1\n",
    "                sample_width = wf.getsampwidth()\n",
    "                assert sample_width == 2\n",
    "                sample_rate = wf.getframerate()\n",
    "                assert sample_rate in (8000, 16000, 32000, 48000)\n",
    "                pcm_data = wf.readframes(wf.getnframes())\n",
    "                return pcm_data, sample_rate\n",
    "        elif ext == '.flac':\n",
    "            with sf.SoundFile(path, \"r\") as flac_file:\n",
    "                pcm_data = flac_file.read(dtype=\"int16\").tobytes()\n",
    "                sample_rate = flac_file.samplerate\n",
    "                assert sample_rate in (8000, 16000, 32000, 48000)\n",
    "                num_channels = flac_file.channels\n",
    "                assert num_channels == 1\n",
    "                return pcm_data, sample_rate\n",
    "\n",
    "    def __init__(self, mode=2, vad_window_ms=30, vad_overlap_ratio=0):\n",
    "        self.vad_window_ms = vad_window_ms\n",
    "        self.vad_overlap_ratio = vad_overlap_ratio\n",
    "        self.vad = webrtcvad.Vad(mode)\n",
    "\n",
    "    def __call__(self, file_path):\n",
    "        wave, rate = WebrtcVadLabelMaker.read_wave(file_path)\n",
    "        window = int(self.vad_window_ms * rate / 1000)\n",
    "        step = int((1 - vad_overlap_ratio) * window)\n",
    "\n",
    "        speech_mask = []\n",
    "        n_frames = int((len(wave) // 2 - window) / step)\n",
    "        for i in range(n_frames):\n",
    "            s = i * step\n",
    "            speech_mask.append(0 + self.vad.is_speech(wave[2 * s:2 * (s + window)], rate))\n",
    "\n",
    "            # item_wise_mask = np.full_like(simple_wave, False, dtype=bool)\n",
    "            # for i, is_speech in enumerate(speech_mask):\n",
    "            #\n",
    "            #     item_wise_mask[vad_hop * i:vad_hop * i + vad_window] = is_speech or item_wise_mask[\n",
    "            #                                                                         vad_hop * i:vad_hop * i + vad_window]\n",
    "\n",
    "        return speech_mask"
   ],
   "id": "fd6fdbf9523ce23d",
   "outputs": [],
   "execution_count": 40
  },
  {
   "metadata": {
    "ExecuteTime": {
     "end_time": "2024-11-28T14:12:14.125260Z",
     "start_time": "2024-11-28T14:12:13.320805Z"
    }
   },
   "cell_type": "code",
   "source": [
    "openSLR_data_directory, ext = '../data/train-clean-100', 'flac'\n",
    "# openSLR_data_directory, ext = \"../data/MSDWild/raw_wav\", 'wav'\n",
    "where_to_save = '../buffer'\n",
    "\n",
    "vad = WebrtcVadLabelMaker(2, vad_window_ms)\n",
    "\n",
    "audio_files_paths = get_files_by_extension(openSLR_data_directory, ext=ext, rel=True)\n",
    "\n",
    "labels_path = f'{target_sample_rate}_{vad_window_ms}_{int(vad_overlap_ratio * 100)}_webrtc_labels.csv'\n",
    "os.makedirs(labels_path, exist_ok=True)\n",
    "labels_path = os.path.join(where_to_save, labels_path)\n",
    "data_samples = len(audio_files_paths)\n",
    "print(data_samples, \"files like:\", np.random.choice(audio_files_paths))\n",
    "print(labels_path)"
   ],
   "id": "68f0353eee9da988",
   "outputs": [
    {
     "name": "stdout",
     "output_type": "stream",
     "text": [
      "28539 files like: 322\\124147\\322-124147-0033.flac\n",
      "../buffer\\8000_10_50_webrtc_labels.csv\n"
     ]
    }
   ],
   "execution_count": 41
  },
  {
   "cell_type": "code",
   "id": "aec8fc383f9551dc",
   "metadata": {
    "ExecuteTime": {
     "end_time": "2024-11-28T14:12:25.907623Z",
     "start_time": "2024-11-28T14:12:14.201183Z"
    }
   },
   "source": [
    "if data_samples > 0:\n",
    "    with open(labels_path, 'w') as file:\n",
    "        file.write(\"filename,labels\" + '\\n')\n",
    "\n",
    "        for audio_path in tqdm(audio_files_paths[:], total=data_samples):\n",
    "            filepath = os.path.join(openSLR_data_directory, audio_path)\n",
    "            stamps = vad(filepath)\n",
    "            path_parts = audio_path.split(os.sep)\n",
    "            filename = path_parts[-1]\n",
    "\n",
    "            file.write(filename + ',' + '-'.join(map(str, stamps)) + '\\n')\n",
    "\n",
    "\n",
    "else:\n",
    "    print(len(audio_files_paths), \"audio files not found\")"
   ],
   "outputs": [
    {
     "name": "stderr",
     "output_type": "stream",
     "text": [
      "  9%|▉         | 2610/28539 [00:11<01:56, 223.18it/s]\n"
     ]
    },
    {
     "ename": "KeyboardInterrupt",
     "evalue": "",
     "output_type": "error",
     "traceback": [
      "\u001B[1;31m---------------------------------------------------------------------------\u001B[0m",
      "\u001B[1;31mKeyboardInterrupt\u001B[0m                         Traceback (most recent call last)",
      "Cell \u001B[1;32mIn[42], line 11\u001B[0m\n\u001B[0;32m      8\u001B[0m             path_parts \u001B[38;5;241m=\u001B[39m audio_path\u001B[38;5;241m.\u001B[39msplit(os\u001B[38;5;241m.\u001B[39msep)\n\u001B[0;32m      9\u001B[0m             filename \u001B[38;5;241m=\u001B[39m path_parts[\u001B[38;5;241m-\u001B[39m\u001B[38;5;241m1\u001B[39m]\n\u001B[1;32m---> 11\u001B[0m             \u001B[43mfile\u001B[49m\u001B[38;5;241;43m.\u001B[39;49m\u001B[43mwrite\u001B[49m\u001B[43m(\u001B[49m\u001B[43mfilename\u001B[49m\u001B[43m \u001B[49m\u001B[38;5;241;43m+\u001B[39;49m\u001B[43m \u001B[49m\u001B[38;5;124;43m'\u001B[39;49m\u001B[38;5;124;43m,\u001B[39;49m\u001B[38;5;124;43m'\u001B[39;49m\u001B[43m \u001B[49m\u001B[38;5;241;43m+\u001B[39;49m\u001B[43m \u001B[49m\u001B[38;5;124;43m'\u001B[39;49m\u001B[38;5;124;43m-\u001B[39;49m\u001B[38;5;124;43m'\u001B[39;49m\u001B[38;5;241;43m.\u001B[39;49m\u001B[43mjoin\u001B[49m\u001B[43m(\u001B[49m\u001B[38;5;28;43mmap\u001B[39;49m\u001B[43m(\u001B[49m\u001B[38;5;28;43mstr\u001B[39;49m\u001B[43m,\u001B[49m\u001B[43m \u001B[49m\u001B[43mstamps\u001B[49m\u001B[43m)\u001B[49m\u001B[43m)\u001B[49m\u001B[43m \u001B[49m\u001B[38;5;241;43m+\u001B[39;49m\u001B[43m \u001B[49m\u001B[38;5;124;43m'\u001B[39;49m\u001B[38;5;130;43;01m\\n\u001B[39;49;00m\u001B[38;5;124;43m'\u001B[39;49m\u001B[43m)\u001B[49m\n\u001B[0;32m     14\u001B[0m \u001B[38;5;28;01melse\u001B[39;00m:\n\u001B[0;32m     15\u001B[0m     \u001B[38;5;28mprint\u001B[39m(\u001B[38;5;28mlen\u001B[39m(audio_files_paths), \u001B[38;5;124m\"\u001B[39m\u001B[38;5;124maudio files not found\u001B[39m\u001B[38;5;124m\"\u001B[39m)\n",
      "\u001B[1;31mKeyboardInterrupt\u001B[0m: "
     ]
    }
   ],
   "execution_count": 42
  },
  {
   "metadata": {
    "ExecuteTime": {
     "end_time": "2024-11-28T14:12:25.909628900Z",
     "start_time": "2024-11-27T15:39:43.552142Z"
    }
   },
   "cell_type": "code",
   "source": [
    "df = pd.read_csv(os.path.join(where_to_save, \"8000_10_50_webrtc_labels.txt\"))\n",
    "with open(\"8000_10_50_webrtc_labels.csv\", 'w') as file:\n",
    "    file.write(\"filename,labels\" + '\\n')\n",
    "    for _, row in tqdm(df.iterrows(), total=data_samples):\n",
    "        k = 0\n",
    "        counts = []\n",
    "        for s in row['labels'].split(\"-\"):\n",
    "            s = int(s)\n",
    "            counts.append(s - k)\n",
    "            k = s\n",
    "        file.write(filename + ',' + '-'.join(map(str, counts)) + '\\n')"
   ],
   "id": "becae7e161470406",
   "outputs": [],
   "execution_count": null
  },
  {
   "metadata": {},
   "cell_type": "code",
   "source": [
    "from numpy import histogram\n",
    "\n",
    "audio_files_paths = get_files_by_extension(\"../data/MSDWild/raw_wav\", ext='wav', rel=False)\n",
    "\n",
    "means = []\n",
    "maxes = []\n",
    "stds = []\n",
    "mines = []\n",
    "for audio_path in tqdm(audio_files_paths[:3000]):\n",
    "    aw = AudioWorker(audio_path).load()\n",
    "\n",
    "    w = aw.wave\n",
    "    E = w ** 2\n",
    "    means.append(E.mean())\n",
    "    stds.append(E.std())\n",
    "\n",
    "    mines.append(E.min())\n",
    "    maxes.append(E.max())\n",
    "\n",
    "\n"
   ],
   "id": "b38f29741940936b",
   "outputs": [],
   "execution_count": null
  },
  {
   "metadata": {},
   "cell_type": "code",
   "source": "plt.hist(means, bins=100);",
   "id": "9b746886fef98c00",
   "outputs": [],
   "execution_count": null
  },
  {
   "metadata": {},
   "cell_type": "code",
   "source": "plt.hist(stds, bins=100);\n",
   "id": "6da601a215bc7aaf",
   "outputs": [],
   "execution_count": null
  },
  {
   "metadata": {},
   "cell_type": "code",
   "source": "plt.hist(maxes, bins=100);\n",
   "id": "977739b854885a61",
   "outputs": [],
   "execution_count": null
  },
  {
   "metadata": {},
   "cell_type": "code",
   "source": "plt.hist(mines, bins=100);\n",
   "id": "cf6eea4036029a46",
   "outputs": [],
   "execution_count": null
  },
  {
   "metadata": {},
   "cell_type": "code",
   "source": "",
   "id": "bbe4806bd5bb9488",
   "outputs": [],
   "execution_count": null
  },
  {
   "metadata": {},
   "cell_type": "code",
   "source": "",
   "id": "620ef4ef0d88a20e",
   "outputs": [],
   "execution_count": null
  },
  {
   "cell_type": "code",
   "id": "8bb51239",
   "metadata": {},
   "source": [
    "target = \"3699-47246-0026.flac\"\n",
    "reader, chapter, *_ = target.split(\"-\")\n",
    "aw = AudioWorker(os.path.join(openSLR_data_directory, reader, chapter, target)).load()\n",
    "aw.resample(target_sample_rate)\n",
    "_, labels = vad(aw)\n"
   ],
   "outputs": [],
   "execution_count": null
  },
  {
   "cell_type": "code",
   "id": "cff02a30110a273e",
   "metadata": {},
   "source": [
    "print(aw.wave.shape)\n",
    "\n",
    "items = aw.wave.size(1)\n",
    "reg_width = int(aw.rate * label_region_s)\n",
    "region_hop_width = int(reg_width * (1 - label_overlap_ratio))\n",
    "count = int(np.floor((items - reg_width) / region_hop_width) + 1)\n",
    "\n",
    "print((items - reg_width) / region_hop_width)\n",
    "\n",
    "print(items, reg_width, region_hop_width, count)"
   ],
   "outputs": [],
   "execution_count": null
  },
  {
   "cell_type": "code",
   "id": "406e2a4d9b48ceeb",
   "metadata": {},
   "source": [],
   "outputs": [],
   "execution_count": null
  }
 ],
 "metadata": {
  "colab": {
   "provenance": []
  },
  "kernelspec": {
   "display_name": "Python 3",
   "language": "python",
   "name": "python3"
  },
  "language_info": {
   "codemirror_mode": {
    "name": "ipython",
    "version": 3
   },
   "file_extension": ".py",
   "mimetype": "text/x-python",
   "name": "python",
   "nbconvert_exporter": "python",
   "pygments_lexer": "ipython3",
   "version": "3.11.4"
  }
 },
 "nbformat": 4,
 "nbformat_minor": 5
}
