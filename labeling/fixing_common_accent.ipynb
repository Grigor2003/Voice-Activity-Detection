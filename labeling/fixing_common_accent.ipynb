{
 "cells": [
  {
   "cell_type": "code",
   "id": "initial_id",
   "metadata": {
    "collapsed": true,
    "ExecuteTime": {
     "end_time": "2025-02-23T09:41:09.478075Z",
     "start_time": "2025-02-23T09:40:57.618904Z"
    }
   },
   "source": "!git clone https://huggingface.co/datasets/DTU54DL/common-accent \"../accent-dataset/cacc\"",
   "outputs": [
    {
     "name": "stdout",
     "output_type": "stream",
     "text": [
      "^C\n"
     ]
    }
   ],
   "execution_count": 14
  },
  {
   "metadata": {
    "ExecuteTime": {
     "end_time": "2025-02-23T09:43:37.259273Z",
     "start_time": "2025-02-23T09:43:36.935459Z"
    }
   },
   "cell_type": "code",
   "source": [
    "import os\n",
    "import pandas as pd\n",
    "\n",
    "common_accent_dir = \"../accent-dataset/cacc\"\n",
    "\n",
    "\n",
    "df_train = pd.read_parquet(os.path.join(common_accent_dir, \"data/train-00000-of-00001-fc6c4977ae9f62c1.parquet\"))\n",
    "df_test = pd.read_parquet(os.path.join(common_accent_dir, \"data/test-00000-of-00001-53b88232efc0bf7e.parquet\"))"
   ],
   "id": "ec16e8f88117a945",
   "outputs": [],
   "execution_count": 19
  },
  {
   "metadata": {
    "ExecuteTime": {
     "end_time": "2025-02-23T09:45:51.361084Z",
     "start_time": "2025-02-23T09:45:51.358575Z"
    }
   },
   "cell_type": "code",
   "source": [
    "english_varieties = [\n",
    "    \"India and South Asia (India, Pakistan, Sri Lanka)\",\n",
    "    \"German English, Non-native speaker\",\n",
    "    \"Southern African (South Africa, Zimbabwe, Namibia)\",\n",
    "    \"Filipino\",\n",
    "    \"Singaporean English\",\n",
    "    \"Hong Kong English\"\n",
    "]"
   ],
   "id": "5034edc92bcadcff",
   "outputs": [],
   "execution_count": 23
  },
  {
   "metadata": {},
   "cell_type": "code",
   "outputs": [],
   "execution_count": null,
   "source": "english_varieties",
   "id": "88ae701d5a26e019"
  }
 ],
 "metadata": {
  "kernelspec": {
   "display_name": "Python 3",
   "language": "python",
   "name": "python3"
  },
  "language_info": {
   "codemirror_mode": {
    "name": "ipython",
    "version": 2
   },
   "file_extension": ".py",
   "mimetype": "text/x-python",
   "name": "python",
   "nbconvert_exporter": "python",
   "pygments_lexer": "ipython2",
   "version": "2.7.6"
  }
 },
 "nbformat": 4,
 "nbformat_minor": 5
}
