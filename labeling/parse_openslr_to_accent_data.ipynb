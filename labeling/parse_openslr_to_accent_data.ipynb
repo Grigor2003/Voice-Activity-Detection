{
 "cells": [
  {
   "cell_type": "code",
   "execution_count": 15,
   "id": "initial_id",
   "metadata": {
    "ExecuteTime": {
     "end_time": "2025-03-16T09:55:42.810294Z",
     "start_time": "2025-03-16T09:55:42.807146Z"
    },
    "collapsed": true
   },
   "outputs": [],
   "source": [
    "open_slr_dir = \"datasets/train-clean-100 cut\"\n",
    "target_dir = \"accent-dataset/clean/\"\n",
    "target_sr = 16000\n",
    "ext = \"flac\"\n",
    "seed = 42\n",
    "extract_count = 4000"
   ]
  },
  {
   "cell_type": "code",
   "execution_count": 16,
   "id": "26334071",
   "metadata": {},
   "outputs": [],
   "source": [
    "import subprocess\n",
    "\n",
    "def convert_flac_to_wav(source_flac, destination_wav, sr):\n",
    "    command = ['ffmpeg', '-i', source_flac, '-ar', str(sr), destination_wav]\n",
    "    subprocess.run(command, check=True)"
   ]
  },
  {
   "cell_type": "code",
   "execution_count": 18,
   "id": "5a6329ed5224a4f5",
   "metadata": {
    "ExecuteTime": {
     "end_time": "2025-03-16T09:57:45.040502Z",
     "start_time": "2025-03-16T09:57:44.342076Z"
    }
   },
   "outputs": [
    {
     "name": "stdout",
     "output_type": "stream",
     "text": [
      "1529\n",
      "4000/1529 | files like: datasets/train-clean-100 cut\\32\\4137\\32-4137-0037.flac\n",
      "Created | accent-dataset/clean/\n"
     ]
    },
    {
     "name": "stderr",
     "output_type": "stream",
     "text": [
      " 15%|█▍        | 226/1529 [00:11<01:08, 18.89it/s]\n"
     ]
    },
    {
     "ename": "KeyboardInterrupt",
     "evalue": "",
     "output_type": "error",
     "traceback": [
      "\u001b[31m---------------------------------------------------------------------------\u001b[39m",
      "\u001b[31mKeyboardInterrupt\u001b[39m                         Traceback (most recent call last)",
      "\u001b[36mCell\u001b[39m\u001b[36m \u001b[39m\u001b[32mIn[18]\u001b[39m\u001b[32m, line 38\u001b[39m\n\u001b[32m     36\u001b[39m new_audio_path = os.path.join(target_dir, name + \u001b[33m'\u001b[39m\u001b[33m.wav\u001b[39m\u001b[33m'\u001b[39m)\n\u001b[32m     37\u001b[39m \u001b[38;5;28;01mif\u001b[39;00m \u001b[38;5;129;01mnot\u001b[39;00m os.path.exists(new_audio_path):\n\u001b[32m---> \u001b[39m\u001b[32m38\u001b[39m     \u001b[43mconvert_flac_to_wav\u001b[49m\u001b[43m(\u001b[49m\u001b[43maudio_path\u001b[49m\u001b[43m,\u001b[49m\u001b[43m \u001b[49m\u001b[43mnew_audio_path\u001b[49m\u001b[43m,\u001b[49m\u001b[43m \u001b[49m\u001b[43mtarget_sr\u001b[49m\u001b[43m)\u001b[49m\n",
      "\u001b[36mCell\u001b[39m\u001b[36m \u001b[39m\u001b[32mIn[16]\u001b[39m\u001b[32m, line 5\u001b[39m, in \u001b[36mconvert_flac_to_wav\u001b[39m\u001b[34m(source_flac, destination_wav, sr)\u001b[39m\n\u001b[32m      3\u001b[39m \u001b[38;5;28;01mdef\u001b[39;00m\u001b[38;5;250m \u001b[39m\u001b[34mconvert_flac_to_wav\u001b[39m(source_flac, destination_wav, sr):\n\u001b[32m      4\u001b[39m     command = [\u001b[33m'\u001b[39m\u001b[33mffmpeg\u001b[39m\u001b[33m'\u001b[39m, \u001b[33m'\u001b[39m\u001b[33m-i\u001b[39m\u001b[33m'\u001b[39m, source_flac, \u001b[33m'\u001b[39m\u001b[33m-ar\u001b[39m\u001b[33m'\u001b[39m, \u001b[38;5;28mstr\u001b[39m(sr), destination_wav]\n\u001b[32m----> \u001b[39m\u001b[32m5\u001b[39m     \u001b[43msubprocess\u001b[49m\u001b[43m.\u001b[49m\u001b[43mrun\u001b[49m\u001b[43m(\u001b[49m\u001b[43mcommand\u001b[49m\u001b[43m,\u001b[49m\u001b[43m \u001b[49m\u001b[43mcheck\u001b[49m\u001b[43m=\u001b[49m\u001b[38;5;28;43;01mTrue\u001b[39;49;00m\u001b[43m)\u001b[49m\n",
      "\u001b[36mFile \u001b[39m\u001b[32m~\\AppData\\Local\\Programs\\Python\\Python311\\Lib\\subprocess.py:550\u001b[39m, in \u001b[36mrun\u001b[39m\u001b[34m(input, capture_output, timeout, check, *popenargs, **kwargs)\u001b[39m\n\u001b[32m    548\u001b[39m \u001b[38;5;28;01mwith\u001b[39;00m Popen(*popenargs, **kwargs) \u001b[38;5;28;01mas\u001b[39;00m process:\n\u001b[32m    549\u001b[39m     \u001b[38;5;28;01mtry\u001b[39;00m:\n\u001b[32m--> \u001b[39m\u001b[32m550\u001b[39m         stdout, stderr = \u001b[43mprocess\u001b[49m\u001b[43m.\u001b[49m\u001b[43mcommunicate\u001b[49m\u001b[43m(\u001b[49m\u001b[38;5;28;43minput\u001b[39;49m\u001b[43m,\u001b[49m\u001b[43m \u001b[49m\u001b[43mtimeout\u001b[49m\u001b[43m=\u001b[49m\u001b[43mtimeout\u001b[49m\u001b[43m)\u001b[49m\n\u001b[32m    551\u001b[39m     \u001b[38;5;28;01mexcept\u001b[39;00m TimeoutExpired \u001b[38;5;28;01mas\u001b[39;00m exc:\n\u001b[32m    552\u001b[39m         process.kill()\n",
      "\u001b[36mFile \u001b[39m\u001b[32m~\\AppData\\Local\\Programs\\Python\\Python311\\Lib\\subprocess.py:1201\u001b[39m, in \u001b[36mPopen.communicate\u001b[39m\u001b[34m(self, input, timeout)\u001b[39m\n\u001b[32m   1199\u001b[39m         stderr = \u001b[38;5;28mself\u001b[39m.stderr.read()\n\u001b[32m   1200\u001b[39m         \u001b[38;5;28mself\u001b[39m.stderr.close()\n\u001b[32m-> \u001b[39m\u001b[32m1201\u001b[39m     \u001b[38;5;28;43mself\u001b[39;49m\u001b[43m.\u001b[49m\u001b[43mwait\u001b[49m\u001b[43m(\u001b[49m\u001b[43m)\u001b[49m\n\u001b[32m   1202\u001b[39m \u001b[38;5;28;01melse\u001b[39;00m:\n\u001b[32m   1203\u001b[39m     \u001b[38;5;28;01mif\u001b[39;00m timeout \u001b[38;5;129;01mis\u001b[39;00m \u001b[38;5;129;01mnot\u001b[39;00m \u001b[38;5;28;01mNone\u001b[39;00m:\n",
      "\u001b[36mFile \u001b[39m\u001b[32m~\\AppData\\Local\\Programs\\Python\\Python311\\Lib\\subprocess.py:1264\u001b[39m, in \u001b[36mPopen.wait\u001b[39m\u001b[34m(self, timeout)\u001b[39m\n\u001b[32m   1262\u001b[39m     endtime = _time() + timeout\n\u001b[32m   1263\u001b[39m \u001b[38;5;28;01mtry\u001b[39;00m:\n\u001b[32m-> \u001b[39m\u001b[32m1264\u001b[39m     \u001b[38;5;28;01mreturn\u001b[39;00m \u001b[38;5;28;43mself\u001b[39;49m\u001b[43m.\u001b[49m\u001b[43m_wait\u001b[49m\u001b[43m(\u001b[49m\u001b[43mtimeout\u001b[49m\u001b[43m=\u001b[49m\u001b[43mtimeout\u001b[49m\u001b[43m)\u001b[49m\n\u001b[32m   1265\u001b[39m \u001b[38;5;28;01mexcept\u001b[39;00m \u001b[38;5;167;01mKeyboardInterrupt\u001b[39;00m:\n\u001b[32m   1266\u001b[39m     \u001b[38;5;66;03m# https://bugs.python.org/issue25942\u001b[39;00m\n\u001b[32m   1267\u001b[39m     \u001b[38;5;66;03m# The first keyboard interrupt waits briefly for the child to\u001b[39;00m\n\u001b[32m   1268\u001b[39m     \u001b[38;5;66;03m# exit under the common assumption that it also received the ^C\u001b[39;00m\n\u001b[32m   1269\u001b[39m     \u001b[38;5;66;03m# generated SIGINT and will exit rapidly.\u001b[39;00m\n\u001b[32m   1270\u001b[39m     \u001b[38;5;28;01mif\u001b[39;00m timeout \u001b[38;5;129;01mis\u001b[39;00m \u001b[38;5;129;01mnot\u001b[39;00m \u001b[38;5;28;01mNone\u001b[39;00m:\n",
      "\u001b[36mFile \u001b[39m\u001b[32m~\\AppData\\Local\\Programs\\Python\\Python311\\Lib\\subprocess.py:1590\u001b[39m, in \u001b[36mPopen._wait\u001b[39m\u001b[34m(self, timeout)\u001b[39m\n\u001b[32m   1587\u001b[39m     timeout_millis = \u001b[38;5;28mint\u001b[39m(timeout * \u001b[32m1000\u001b[39m)\n\u001b[32m   1588\u001b[39m \u001b[38;5;28;01mif\u001b[39;00m \u001b[38;5;28mself\u001b[39m.returncode \u001b[38;5;129;01mis\u001b[39;00m \u001b[38;5;28;01mNone\u001b[39;00m:\n\u001b[32m   1589\u001b[39m     \u001b[38;5;66;03m# API note: Returns immediately if timeout_millis == 0.\u001b[39;00m\n\u001b[32m-> \u001b[39m\u001b[32m1590\u001b[39m     result = _winapi.WaitForSingleObject(\u001b[38;5;28mself\u001b[39m._handle,\n\u001b[32m   1591\u001b[39m                                          timeout_millis)\n\u001b[32m   1592\u001b[39m     \u001b[38;5;28;01mif\u001b[39;00m result == _winapi.WAIT_TIMEOUT:\n\u001b[32m   1593\u001b[39m         \u001b[38;5;28;01mraise\u001b[39;00m TimeoutExpired(\u001b[38;5;28mself\u001b[39m.args, timeout)\n",
      "\u001b[31mKeyboardInterrupt\u001b[39m: "
     ]
    }
   ],
   "source": [
    "import torchaudio\n",
    "from tqdm import tqdm\n",
    "import os\n",
    "# from other.data.audio_utils import get_files_by_extension\n",
    "import random\n",
    "import glob\n",
    "\n",
    "def get_files_by_extension(directory, ext='txt', rel=False):\n",
    "    ext = ext if ext.startswith('.') else ('.' + ext)\n",
    "    pattern = os.path.join(directory, '**', f'*{ext}')\n",
    "    files = glob.glob(pattern, recursive=True)\n",
    "    if rel:\n",
    "        return [os.path.relpath(path, directory) for path in files]\n",
    "    return files\n",
    "\n",
    "random.seed(seed)\n",
    "\n",
    "audio_files_paths = get_files_by_extension(open_slr_dir, ext=ext, rel=False)\n",
    "print(len(audio_files_paths))\n",
    "upscaled_count = 0\n",
    "data_samples = len(audio_files_paths)\n",
    "random.seed(42)\n",
    "random.shuffle(audio_files_paths)\n",
    "\n",
    "print(f\"{extract_count}/{data_samples} | files like:\", random.choice(audio_files_paths))\n",
    "\n",
    "os.makedirs(target_dir, exist_ok=True)\n",
    "print(\"Created |\", target_dir)\n",
    "\n",
    "with open(os.path.join(target_dir, \"accent.txt\"), \"w\") as f:\n",
    "        f.write('clean')\n",
    "\n",
    "for audio_path in tqdm(audio_files_paths[:extract_count]):\n",
    "    basename = os.path.basename(audio_path)\n",
    "    name, ext = basename.split('.')\n",
    "    new_audio_path = os.path.join(target_dir, name + '.wav')\n",
    "    if not os.path.exists(new_audio_path):\n",
    "        convert_flac_to_wav(audio_path, new_audio_path, target_sr)\n",
    "\n"
   ]
  },
  {
   "cell_type": "code",
   "execution_count": null,
   "id": "86857be31d184a1a",
   "metadata": {},
   "outputs": [],
   "source": []
  }
 ],
 "metadata": {
  "kernelspec": {
   "display_name": "vad_venv",
   "language": "python",
   "name": "python3"
  },
  "language_info": {
   "codemirror_mode": {
    "name": "ipython",
    "version": 3
   },
   "file_extension": ".py",
   "mimetype": "text/x-python",
   "name": "python",
   "nbconvert_exporter": "python",
   "pygments_lexer": "ipython3",
   "version": "3.11.9"
  }
 },
 "nbformat": 4,
 "nbformat_minor": 5
}
