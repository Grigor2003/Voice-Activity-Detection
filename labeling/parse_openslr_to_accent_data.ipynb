{
 "cells": [
  {
   "cell_type": "code",
   "id": "initial_id",
   "metadata": {
    "collapsed": true,
    "ExecuteTime": {
     "end_time": "2025-03-16T09:55:42.810294Z",
     "start_time": "2025-03-16T09:55:42.807146Z"
    }
   },
   "source": [
    "open_slr_dir = \"../datasets/train-clean-100-16k\"\n",
    "target_dir = \"../accent-dataset/cacc/wavs/clean\"\n",
    "ext = \"flac\"\n",
    "seed = 42\n",
    "extract_ratio = 0.1"
   ],
   "outputs": [],
   "execution_count": 19
  },
  {
   "metadata": {
    "ExecuteTime": {
     "end_time": "2025-03-16T09:57:45.040502Z",
     "start_time": "2025-03-16T09:57:44.342076Z"
    }
   },
   "cell_type": "code",
   "source": [
    "import shutil\n",
    "from datasets import tqdm\n",
    "import os\n",
    "from other.data.audio_utils import get_files_by_extension\n",
    "import random\n",
    "\n",
    "random.seed(seed)\n",
    "\n",
    "audio_files_paths = get_files_by_extension(open_slr_dir, ext=ext, rel=False)\n",
    "upscaled_count = 0\n",
    "data_samples = len(audio_files_paths)\n",
    "random.shuffle(audio_files_paths)\n",
    "\n",
    "extract_count = int(extract_ratio * data_samples)\n",
    "print(f\"{extract_count}/{data_samples} | files like:\", random.choice(audio_files_paths))\n",
    "\n",
    "os.makedirs(target_dir, exist_ok=True)\n",
    "print(\"Created |\", target_dir)\n",
    "\n",
    "for audio_path in tqdm(audio_files_paths[:extract_count]):\n",
    "    basename = os.path.basename(audio_path)\n",
    "    new_audio_path = os.path.join(target_dir, basename)\n",
    "    if not os.path.exists(new_audio_path):\n",
    "        shutil.copy(audio_path, new_audio_path)\n",
    "\n",
    "with open(os.path.join(target_dir, \"accent.txt\"), \"w\") as f:\n",
    "        f.write('clean')"
   ],
   "id": "5a6329ed5224a4f5",
   "outputs": [
    {
     "name": "stdout",
     "output_type": "stream",
     "text": [
      "2853/28539 | files like: ../datasets/train-clean-100-16k\\4195\\186236\\4195-186236-0028.flac\n",
      "Created | ../accent-dataset/cacc/wavs/clean\n"
     ]
    },
    {
     "name": "stderr",
     "output_type": "stream",
     "text": [
      "100%|██████████| 2853/2853 [00:00<00:00, 48431.66it/s]\n"
     ]
    }
   ],
   "execution_count": 22
  },
  {
   "metadata": {},
   "cell_type": "code",
   "outputs": [],
   "execution_count": null,
   "source": "",
   "id": "86857be31d184a1a"
  }
 ],
 "metadata": {
  "kernelspec": {
   "display_name": "Python 3",
   "language": "python",
   "name": "python3"
  },
  "language_info": {
   "codemirror_mode": {
    "name": "ipython",
    "version": 2
   },
   "file_extension": ".py",
   "mimetype": "text/x-python",
   "name": "python",
   "nbconvert_exporter": "python",
   "pygments_lexer": "ipython2",
   "version": "2.7.6"
  }
 },
 "nbformat": 4,
 "nbformat_minor": 5
}
