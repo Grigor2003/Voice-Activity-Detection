{
 "cells": [
  {
   "cell_type": "code",
   "execution_count": null,
   "id": "87cbdd0b96559d5e",
   "metadata": {
    "ExecuteTime": {
     "end_time": "2025-04-26T12:56:28.488553Z",
     "start_time": "2025-04-26T12:56:26.489791Z"
    }
   },
   "outputs": [],
   "source": [
    "import os\n",
    "from tqdm import tqdm\n",
    "import torchaudio.functional as F\n",
    "import pandas as pd\n",
    "import torchaudio\n",
    "from other.data.audio_utils import AudioWorker"
   ]
  },
  {
   "cell_type": "code",
   "execution_count": null,
   "id": "68f0353eee9da988",
   "metadata": {
    "ExecuteTime": {
     "end_time": "2025-04-26T13:39:16.572775Z",
     "start_time": "2025-04-26T13:39:16.570265Z"
    }
   },
   "outputs": [],
   "source": [
    "# Be sure that data is resampled\n",
    "data_dir = r'accent-dataset\\common_accent'\n",
    "labels_path = r'datasets\\16000_silero_labels.csv'"
   ]
  },
  {
   "cell_type": "code",
   "execution_count": null,
   "id": "a0ecf3d025938796",
   "metadata": {
    "ExecuteTime": {
     "end_time": "2025-04-26T13:39:17.512461Z",
     "start_time": "2025-04-26T13:39:17.509461Z"
    }
   },
   "outputs": [],
   "source": [
    "pitch_values = [-2, -1, 1, 2]"
   ]
  },
  {
   "cell_type": "code",
   "execution_count": null,
   "id": "f18834c3c7c8755d",
   "metadata": {
    "ExecuteTime": {
     "end_time": "2025-04-26T14:05:06.495285Z",
     "start_time": "2025-04-26T13:39:17.900654Z"
    }
   },
   "outputs": [],
   "source": [
    "labels = pd.read_csv(labels_path).dropna()\n",
    "final_dicts = []\n",
    "\n",
    "_tqdm = tqdm(labels.iterrows(), total=len(labels))\n",
    "for idx, row in _tqdm:\n",
    "    name, ext = row.filename.split('.')\n",
    "    audio_file_path = os.path.join(data_dir, row.filename)\n",
    "\n",
    "    if not os.path.exists(audio_file_path):\n",
    "        continue\n",
    "\n",
    "    aw = AudioWorker(audio_file_path, os.path.basename(audio_file_path))\n",
    "    aw.load().leave_one_channel()\n",
    "    final_dicts.append({'filename': row.filename, 'labels': row.labels})\n",
    "\n",
    "    for pv in pitch_values:\n",
    "        save_name = name + f'_{pv}' + '.' + ext\n",
    "        save_path = os.path.join(data_dir, save_name)\n",
    "\n",
    "        if os.path.exists(save_path):\n",
    "            final_dicts.append({'filename': save_name, 'labels': row.labels})\n",
    "            continue\n",
    "\n",
    "        wave = F.pitch_shift(aw.wave.to('cuda'), sample_rate=aw.rate, n_steps=pv)\n",
    "\n",
    "        torchaudio.save(save_path, wave.detach().cpu(), aw.rate)\n",
    "        # print(save_path)\n",
    "\n",
    "        final_dicts.append({'filename': save_name, 'labels': row.labels})\n",
    "\n",
    "    # row.filename = name + ''.join(['{_' + str(pv) + '}' for pv in pitch_values]) + '.' + ext\n",
    "\n",
    "new_labels = pd.DataFrame(final_dicts)\n",
    "new_labels.to_csv(os.path.basename(labels_path).split('.')[0] + \"_pitched.csv\", index=False)"
   ]
  },
  {
   "cell_type": "code",
   "execution_count": null,
   "id": "41b26154",
   "metadata": {},
   "outputs": [],
   "source": []
  }
 ],
 "metadata": {
  "colab": {
   "provenance": []
  },
  "kernelspec": {
   "display_name": "vad_venv",
   "language": "python",
   "name": "python3"
  },
  "language_info": {
   "codemirror_mode": {
    "name": "ipython",
    "version": 3
   },
   "file_extension": ".py",
   "mimetype": "text/x-python",
   "name": "python",
   "nbconvert_exporter": "python",
   "pygments_lexer": "ipython3",
   "version": "3.11.9"
  }
 },
 "nbformat": 4,
 "nbformat_minor": 5
}
