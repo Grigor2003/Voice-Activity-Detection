{
 "cells": [
  {
   "cell_type": "code",
   "id": "87cbdd0b96559d5e",
   "metadata": {
    "ExecuteTime": {
     "end_time": "2025-04-26T12:56:28.488553Z",
     "start_time": "2025-04-26T12:56:26.489791Z"
    }
   },
   "source": [
    "import wave\n",
    "from time import time\n",
    "import torch\n",
    "\n",
    "import os\n",
    "from tqdm import tqdm\n",
    "import numpy as np\n",
    "import torchaudio.functional as F\n",
    "import pandas as pd\n",
    "import torchaudio\n",
    "\n",
    "from other.data.audio_utils import AudioWorker\n",
    "from other.data.datasets import OpenSLRDataset as osd\n",
    "from other.utils import get_files_by_extension"
   ],
   "outputs": [],
   "execution_count": 5
  },
  {
   "cell_type": "code",
   "id": "68f0353eee9da988",
   "metadata": {
    "ExecuteTime": {
     "end_time": "2025-04-26T13:39:16.572775Z",
     "start_time": "2025-04-26T13:39:16.570265Z"
    }
   },
   "source": [
    "# Be sure that data is resampled\n",
    "data_dir = r'..\\..\\datasets\\openslr\\8k_pitched'\n",
    "# data_dir = r'..\\..\\datasets\\openslr\\test'\n",
    "labels_path = r'..\\..\\datasets\\openslr\\8000_silero_labels.csv'"
   ],
   "outputs": [],
   "execution_count": 49
  },
  {
   "metadata": {
    "ExecuteTime": {
     "end_time": "2025-04-26T13:39:17.512461Z",
     "start_time": "2025-04-26T13:39:17.509461Z"
    }
   },
   "cell_type": "code",
   "source": "pitch_values = [-2, -1, 1, 2]",
   "id": "a0ecf3d025938796",
   "outputs": [],
   "execution_count": 50
  },
  {
   "metadata": {
    "ExecuteTime": {
     "end_time": "2025-04-26T14:05:06.495285Z",
     "start_time": "2025-04-26T13:39:17.900654Z"
    }
   },
   "cell_type": "code",
   "source": [
    "labels = pd.read_csv(labels_path).dropna()\n",
    "final_dicts = []\n",
    "\n",
    "_tqdm = tqdm(labels.iterrows(), total=len(labels))\n",
    "for idx, row in _tqdm:\n",
    "    name, ext = row.filename.split('.')\n",
    "\n",
    "    reader, chapter, _ = name.split('-')\n",
    "    audio_file_path = os.path.join(data_dir, reader, chapter, name + '.' + ext)\n",
    "\n",
    "    if not os.path.exists(audio_file_path):\n",
    "        continue\n",
    "\n",
    "    aw = AudioWorker(audio_file_path, os.path.basename(audio_file_path))\n",
    "    aw.load().leave_one_channel()\n",
    "    final_dicts.append({'filename': name + '.' + ext, 'labels': row.labels})\n",
    "\n",
    "    for pv in pitch_values:\n",
    "        save_name = name + f'_{pv}' + '.' + ext\n",
    "        save_path = os.path.join(data_dir, reader, chapter, save_name)\n",
    "\n",
    "        if os.path.exists(save_path):\n",
    "            final_dicts.append({'filename': save_name, 'labels': row.labels})\n",
    "            continue\n",
    "\n",
    "        wave = F.pitch_shift(aw.wave.to('cuda'), sample_rate=aw.rate, n_steps=pv)\n",
    "\n",
    "        torchaudio.save(save_path, wave.detach().cpu(), aw.rate)\n",
    "        # print(save_path)\n",
    "\n",
    "        final_dicts.append({'filename': save_name, 'labels': row.labels})\n",
    "\n",
    "    # row.filename = name + ''.join(['{_' + str(pv) + '}' for pv in pitch_values]) + '.' + ext\n",
    "\n",
    "new_labels = pd.DataFrame(final_dicts)\n",
    "new_labels.to_csv(os.path.basename(labels_path).split('.')[0] + \"_pitched.csv\", index=False)"
   ],
   "id": "f18834c3c7c8755d",
   "outputs": [
    {
     "name": "stderr",
     "output_type": "stream",
     "text": [
      "100%|██████████| 28537/28537 [25:48<00:00, 18.43it/s]\n"
     ]
    }
   ],
   "execution_count": 51
  },
  {
   "metadata": {
    "ExecuteTime": {
     "end_time": "2025-04-26T14:20:00.653992Z",
     "start_time": "2025-04-26T14:20:00.650992Z"
    }
   },
   "cell_type": "code",
   "source": "os.path.basename(labels_path)",
   "id": "a5d46c764584782e",
   "outputs": [
    {
     "data": {
      "text/plain": [
       "'8000_silero_labels.csv'"
      ]
     },
     "execution_count": 54,
     "metadata": {},
     "output_type": "execute_result"
    }
   ],
   "execution_count": 54
  },
  {
   "metadata": {
    "ExecuteTime": {
     "end_time": "2025-04-26T14:13:59.331389Z",
     "start_time": "2025-04-26T14:13:59.325988Z"
    }
   },
   "cell_type": "code",
   "source": "labels_path.split('.')[0] + \"_pitched.csv\"",
   "id": "c02378f0ea6f6da4",
   "outputs": [
    {
     "data": {
      "text/plain": [
       "'_pitched.csv'"
      ]
     },
     "execution_count": 52,
     "metadata": {},
     "output_type": "execute_result"
    }
   ],
   "execution_count": 52
  },
  {
   "cell_type": "code",
   "id": "aec8fc383f9551dc",
   "metadata": {
    "ExecuteTime": {
     "end_time": "2025-04-26T12:40:43.904776700Z",
     "start_time": "2025-04-24T11:04:45.523699Z"
    }
   },
   "source": [
    "if data_samples > 0:\n",
    "    with open(labels_path, 'w') as file:\n",
    "        file.write(\"filename,labels\" + '\\n')\n",
    "\n",
    "    t = tqdm(audio_files_paths[:], total=data_samples)\n",
    "    webrtcvad_t, write_t = 0, 0\n",
    "    ma = 0.8\n",
    "    for i, audio_path in enumerate(t):\n",
    "        s_vad = time()\n",
    "        filepath = os.path.join(openSLR_data_directory, audio_path)\n",
    "        one_stamps = vad(filepath)\n",
    "        if one_stamps is None:\n",
    "            continue\n",
    "        e_vad = time()\n",
    "        path_parts = audio_path.split(os.sep)\n",
    "        filename = path_parts[-1]\n",
    "\n",
    "        with open(labels_path, 'a') as file:\n",
    "            file.write(filename + ',' + '-'.join(map(str, one_stamps)) + '\\n')\n",
    "        e_write = time()\n",
    "\n",
    "        webrtcvad_t = ma * webrtcvad_t + (1 - ma) * (e_vad - s_vad)\n",
    "        write_t = ma * webrtcvad_t + (1 - ma) * (e_write - e_vad)\n",
    "        if i % 100 == 0:\n",
    "            t.set_description_str(f\"webrtcvad: {webrtcvad_t * 1000:.1f}ms | write: {write_t * 1000:.1f}ms\")\n",
    "\n",
    "else:\n",
    "    print(len(audio_files_paths), \"audio files not found\")"
   ],
   "outputs": [
    {
     "name": "stderr",
     "output_type": "stream",
     "text": [
      "webrtcvad: 96.9ms | write: 77.7ms:   1%|          | 336/28539 [00:28<40:30, 11.61it/s]\n"
     ]
    },
    {
     "ename": "KeyboardInterrupt",
     "evalue": "",
     "output_type": "error",
     "traceback": [
      "\u001B[1;31m---------------------------------------------------------------------------\u001B[0m",
      "\u001B[1;31mKeyboardInterrupt\u001B[0m                         Traceback (most recent call last)",
      "Cell \u001B[1;32mIn[19], line 11\u001B[0m\n\u001B[0;32m      9\u001B[0m s_vad \u001B[38;5;241m=\u001B[39m time()\n\u001B[0;32m     10\u001B[0m filepath \u001B[38;5;241m=\u001B[39m os\u001B[38;5;241m.\u001B[39mpath\u001B[38;5;241m.\u001B[39mjoin(openSLR_data_directory, audio_path)\n\u001B[1;32m---> 11\u001B[0m one_stamps \u001B[38;5;241m=\u001B[39m \u001B[43mvad\u001B[49m\u001B[43m(\u001B[49m\u001B[43mfilepath\u001B[49m\u001B[43m)\u001B[49m\n\u001B[0;32m     12\u001B[0m \u001B[38;5;28;01mif\u001B[39;00m one_stamps \u001B[38;5;129;01mis\u001B[39;00m \u001B[38;5;28;01mNone\u001B[39;00m:\n\u001B[0;32m     13\u001B[0m     \u001B[38;5;28;01mcontinue\u001B[39;00m\n",
      "Cell \u001B[1;32mIn[17], line 9\u001B[0m, in \u001B[0;36mSileroVadLabelMaker.__call__\u001B[1;34m(self, file_path)\u001B[0m\n\u001B[0;32m      7\u001B[0m \u001B[38;5;28;01mdef\u001B[39;00m\u001B[38;5;250m \u001B[39m\u001B[38;5;21m__call__\u001B[39m(\u001B[38;5;28mself\u001B[39m, file_path):\n\u001B[0;32m      8\u001B[0m     wav \u001B[38;5;241m=\u001B[39m \u001B[38;5;28mself\u001B[39m\u001B[38;5;241m.\u001B[39mread_audio(file_path, sampling_rate\u001B[38;5;241m=\u001B[39m\u001B[38;5;28mself\u001B[39m\u001B[38;5;241m.\u001B[39msample_rate)\n\u001B[1;32m----> 9\u001B[0m     speech_timestamps \u001B[38;5;241m=\u001B[39m \u001B[38;5;28;43mself\u001B[39;49m\u001B[38;5;241;43m.\u001B[39;49m\u001B[43mget_speech_timestamps\u001B[49m\u001B[43m(\u001B[49m\n\u001B[0;32m     10\u001B[0m \u001B[43m    \u001B[49m\u001B[43mwav\u001B[49m\u001B[43m,\u001B[49m\n\u001B[0;32m     11\u001B[0m \u001B[43m    \u001B[49m\u001B[38;5;28;43mself\u001B[39;49m\u001B[38;5;241;43m.\u001B[39;49m\u001B[43mmodel\u001B[49m\u001B[43m,\u001B[49m\n\u001B[0;32m     12\u001B[0m \u001B[43m    \u001B[49m\u001B[43mreturn_seconds\u001B[49m\u001B[38;5;241;43m=\u001B[39;49m\u001B[38;5;28;43;01mFalse\u001B[39;49;00m\u001B[43m,\u001B[49m\n\u001B[0;32m     13\u001B[0m \u001B[43m    \u001B[49m\u001B[43msampling_rate\u001B[49m\u001B[38;5;241;43m=\u001B[39;49m\u001B[38;5;28;43mself\u001B[39;49m\u001B[38;5;241;43m.\u001B[39;49m\u001B[43msample_rate\u001B[49m\n\u001B[0;32m     14\u001B[0m \u001B[43m    \u001B[49m\u001B[43m)\u001B[49m\n\u001B[0;32m     15\u001B[0m     ones_regions \u001B[38;5;241m=\u001B[39m []\n\u001B[0;32m     16\u001B[0m     \u001B[38;5;28;01mfor\u001B[39;00m stamps \u001B[38;5;129;01min\u001B[39;00m speech_timestamps:\n",
      "File \u001B[1;32m~\\Projects\\VAD_infrastructure\\.venv\\Lib\\site-packages\\torch\\utils\\_contextlib.py:116\u001B[0m, in \u001B[0;36mcontext_decorator.<locals>.decorate_context\u001B[1;34m(*args, **kwargs)\u001B[0m\n\u001B[0;32m    113\u001B[0m \u001B[38;5;129m@functools\u001B[39m\u001B[38;5;241m.\u001B[39mwraps(func)\n\u001B[0;32m    114\u001B[0m \u001B[38;5;28;01mdef\u001B[39;00m\u001B[38;5;250m \u001B[39m\u001B[38;5;21mdecorate_context\u001B[39m(\u001B[38;5;241m*\u001B[39margs, \u001B[38;5;241m*\u001B[39m\u001B[38;5;241m*\u001B[39mkwargs):\n\u001B[0;32m    115\u001B[0m     \u001B[38;5;28;01mwith\u001B[39;00m ctx_factory():\n\u001B[1;32m--> 116\u001B[0m         \u001B[38;5;28;01mreturn\u001B[39;00m \u001B[43mfunc\u001B[49m\u001B[43m(\u001B[49m\u001B[38;5;241;43m*\u001B[39;49m\u001B[43margs\u001B[49m\u001B[43m,\u001B[49m\u001B[43m \u001B[49m\u001B[38;5;241;43m*\u001B[39;49m\u001B[38;5;241;43m*\u001B[39;49m\u001B[43mkwargs\u001B[49m\u001B[43m)\u001B[49m\n",
      "File \u001B[1;32m~/.cache\\torch\\hub\\snakers4_silero-vad_master\\src\\silero_vad\\utils_vad.py:296\u001B[0m, in \u001B[0;36mget_speech_timestamps\u001B[1;34m(audio, model, threshold, sampling_rate, min_speech_duration_ms, max_speech_duration_s, min_silence_duration_ms, speech_pad_ms, return_seconds, visualize_probs, progress_tracking_callback, neg_threshold, window_size_samples)\u001B[0m\n\u001B[0;32m    294\u001B[0m \u001B[38;5;28;01mif\u001B[39;00m \u001B[38;5;28mlen\u001B[39m(chunk) \u001B[38;5;241m<\u001B[39m window_size_samples:\n\u001B[0;32m    295\u001B[0m     chunk \u001B[38;5;241m=\u001B[39m torch\u001B[38;5;241m.\u001B[39mnn\u001B[38;5;241m.\u001B[39mfunctional\u001B[38;5;241m.\u001B[39mpad(chunk, (\u001B[38;5;241m0\u001B[39m, \u001B[38;5;28mint\u001B[39m(window_size_samples \u001B[38;5;241m-\u001B[39m \u001B[38;5;28mlen\u001B[39m(chunk))))\n\u001B[1;32m--> 296\u001B[0m speech_prob \u001B[38;5;241m=\u001B[39m \u001B[43mmodel\u001B[49m\u001B[43m(\u001B[49m\u001B[43mchunk\u001B[49m\u001B[43m,\u001B[49m\u001B[43m \u001B[49m\u001B[43msampling_rate\u001B[49m\u001B[43m)\u001B[49m\u001B[38;5;241m.\u001B[39mitem()\n\u001B[0;32m    297\u001B[0m speech_probs\u001B[38;5;241m.\u001B[39mappend(speech_prob)\n\u001B[0;32m    298\u001B[0m \u001B[38;5;66;03m# caculate progress and seng it to callback function\u001B[39;00m\n",
      "File \u001B[1;32m~\\Projects\\VAD_infrastructure\\.venv\\Lib\\site-packages\\torch\\nn\\modules\\module.py:1736\u001B[0m, in \u001B[0;36mModule._wrapped_call_impl\u001B[1;34m(self, *args, **kwargs)\u001B[0m\n\u001B[0;32m   1734\u001B[0m     \u001B[38;5;28;01mreturn\u001B[39;00m \u001B[38;5;28mself\u001B[39m\u001B[38;5;241m.\u001B[39m_compiled_call_impl(\u001B[38;5;241m*\u001B[39margs, \u001B[38;5;241m*\u001B[39m\u001B[38;5;241m*\u001B[39mkwargs)  \u001B[38;5;66;03m# type: ignore[misc]\u001B[39;00m\n\u001B[0;32m   1735\u001B[0m \u001B[38;5;28;01melse\u001B[39;00m:\n\u001B[1;32m-> 1736\u001B[0m     \u001B[38;5;28;01mreturn\u001B[39;00m \u001B[38;5;28;43mself\u001B[39;49m\u001B[38;5;241;43m.\u001B[39;49m\u001B[43m_call_impl\u001B[49m\u001B[43m(\u001B[49m\u001B[38;5;241;43m*\u001B[39;49m\u001B[43margs\u001B[49m\u001B[43m,\u001B[49m\u001B[43m \u001B[49m\u001B[38;5;241;43m*\u001B[39;49m\u001B[38;5;241;43m*\u001B[39;49m\u001B[43mkwargs\u001B[49m\u001B[43m)\u001B[49m\n",
      "File \u001B[1;32m~\\Projects\\VAD_infrastructure\\.venv\\Lib\\site-packages\\torch\\nn\\modules\\module.py:1747\u001B[0m, in \u001B[0;36mModule._call_impl\u001B[1;34m(self, *args, **kwargs)\u001B[0m\n\u001B[0;32m   1742\u001B[0m \u001B[38;5;66;03m# If we don't have any hooks, we want to skip the rest of the logic in\u001B[39;00m\n\u001B[0;32m   1743\u001B[0m \u001B[38;5;66;03m# this function, and just call forward.\u001B[39;00m\n\u001B[0;32m   1744\u001B[0m \u001B[38;5;28;01mif\u001B[39;00m \u001B[38;5;129;01mnot\u001B[39;00m (\u001B[38;5;28mself\u001B[39m\u001B[38;5;241m.\u001B[39m_backward_hooks \u001B[38;5;129;01mor\u001B[39;00m \u001B[38;5;28mself\u001B[39m\u001B[38;5;241m.\u001B[39m_backward_pre_hooks \u001B[38;5;129;01mor\u001B[39;00m \u001B[38;5;28mself\u001B[39m\u001B[38;5;241m.\u001B[39m_forward_hooks \u001B[38;5;129;01mor\u001B[39;00m \u001B[38;5;28mself\u001B[39m\u001B[38;5;241m.\u001B[39m_forward_pre_hooks\n\u001B[0;32m   1745\u001B[0m         \u001B[38;5;129;01mor\u001B[39;00m _global_backward_pre_hooks \u001B[38;5;129;01mor\u001B[39;00m _global_backward_hooks\n\u001B[0;32m   1746\u001B[0m         \u001B[38;5;129;01mor\u001B[39;00m _global_forward_hooks \u001B[38;5;129;01mor\u001B[39;00m _global_forward_pre_hooks):\n\u001B[1;32m-> 1747\u001B[0m     \u001B[38;5;28;01mreturn\u001B[39;00m \u001B[43mforward_call\u001B[49m\u001B[43m(\u001B[49m\u001B[38;5;241;43m*\u001B[39;49m\u001B[43margs\u001B[49m\u001B[43m,\u001B[49m\u001B[43m \u001B[49m\u001B[38;5;241;43m*\u001B[39;49m\u001B[38;5;241;43m*\u001B[39;49m\u001B[43mkwargs\u001B[49m\u001B[43m)\u001B[49m\n\u001B[0;32m   1749\u001B[0m result \u001B[38;5;241m=\u001B[39m \u001B[38;5;28;01mNone\u001B[39;00m\n\u001B[0;32m   1750\u001B[0m called_always_called_hooks \u001B[38;5;241m=\u001B[39m \u001B[38;5;28mset\u001B[39m()\n",
      "\u001B[1;31mKeyboardInterrupt\u001B[0m: "
     ]
    }
   ],
   "execution_count": 19
  },
  {
   "cell_type": "code",
   "id": "becae7e161470406",
   "metadata": {
    "ExecuteTime": {
     "end_time": "2025-04-24T11:05:14.717122900Z",
     "start_time": "2025-04-24T11:01:48.548303Z"
    }
   },
   "source": [
    "df = pd.read_csv(os.path.join(where_to_save, \"8000_10_50_webrtc_labels.txt\"))\n",
    "with open(\"8000_10_50_webrtc_labels.csv\", 'w') as file:\n",
    "    file.write(\"filename,labels\" + '\\n')\n",
    "    for _, row in tqdm(df.iterrows(), total=data_samples):\n",
    "        k = 0\n",
    "        counts = []\n",
    "        for s in row['labels'].split(\"-\"):\n",
    "            s = int(s)\n",
    "            counts.append(s - k)\n",
    "            k = s\n",
    "        file.write(filename + ',' + '-'.join(map(str, counts)) + '\\n')"
   ],
   "outputs": [
    {
     "ename": "NameError",
     "evalue": "name 'pd' is not defined",
     "output_type": "error",
     "traceback": [
      "\u001B[1;31m---------------------------------------------------------------------------\u001B[0m",
      "\u001B[1;31mNameError\u001B[0m                                 Traceback (most recent call last)",
      "Cell \u001B[1;32mIn[13], line 1\u001B[0m\n\u001B[1;32m----> 1\u001B[0m df \u001B[38;5;241m=\u001B[39m \u001B[43mpd\u001B[49m\u001B[38;5;241m.\u001B[39mread_csv(os\u001B[38;5;241m.\u001B[39mpath\u001B[38;5;241m.\u001B[39mjoin(where_to_save, \u001B[38;5;124m\"\u001B[39m\u001B[38;5;124m8000_10_50_webrtc_labels.txt\u001B[39m\u001B[38;5;124m\"\u001B[39m))\n\u001B[0;32m      2\u001B[0m \u001B[38;5;28;01mwith\u001B[39;00m \u001B[38;5;28mopen\u001B[39m(\u001B[38;5;124m\"\u001B[39m\u001B[38;5;124m8000_10_50_webrtc_labels.csv\u001B[39m\u001B[38;5;124m\"\u001B[39m, \u001B[38;5;124m'\u001B[39m\u001B[38;5;124mw\u001B[39m\u001B[38;5;124m'\u001B[39m) \u001B[38;5;28;01mas\u001B[39;00m file:\n\u001B[0;32m      3\u001B[0m     file\u001B[38;5;241m.\u001B[39mwrite(\u001B[38;5;124m\"\u001B[39m\u001B[38;5;124mfilename,labels\u001B[39m\u001B[38;5;124m\"\u001B[39m \u001B[38;5;241m+\u001B[39m \u001B[38;5;124m'\u001B[39m\u001B[38;5;130;01m\\n\u001B[39;00m\u001B[38;5;124m'\u001B[39m)\n",
      "\u001B[1;31mNameError\u001B[0m: name 'pd' is not defined"
     ]
    }
   ],
   "execution_count": 13
  },
  {
   "cell_type": "code",
   "execution_count": null,
   "id": "b38f29741940936b",
   "metadata": {},
   "outputs": [],
   "source": [
    "\n",
    "\n",
    "audio_files_paths = get_files_by_extension(\"../data/MSDWild/raw_wav\", ext='wav', rel=False)\n",
    "\n",
    "means = []\n",
    "maxes = []\n",
    "stds = []\n",
    "mines = []\n",
    "for audio_path in tqdm(audio_files_paths[:3000]):\n",
    "    aw = AudioWorker(audio_path).load()\n",
    "\n",
    "    w = aw.wave\n",
    "    E = w ** 2\n",
    "    means.append(E.mean())\n",
    "    stds.append(E.std())\n",
    "\n",
    "    mines.append(E.min())\n",
    "    maxes.append(E.max())\n",
    "\n",
    "\n"
   ]
  },
  {
   "cell_type": "code",
   "execution_count": null,
   "id": "9b746886fef98c00",
   "metadata": {},
   "outputs": [],
   "source": [
    "plt.hist(means, bins=100);"
   ]
  },
  {
   "cell_type": "code",
   "execution_count": null,
   "id": "6da601a215bc7aaf",
   "metadata": {},
   "outputs": [],
   "source": [
    "plt.hist(stds, bins=100);\n"
   ]
  },
  {
   "cell_type": "code",
   "execution_count": null,
   "id": "977739b854885a61",
   "metadata": {},
   "outputs": [],
   "source": [
    "plt.hist(maxes, bins=100);\n"
   ]
  },
  {
   "cell_type": "code",
   "execution_count": null,
   "id": "cf6eea4036029a46",
   "metadata": {},
   "outputs": [],
   "source": [
    "plt.hist(mines, bins=100);\n"
   ]
  },
  {
   "cell_type": "code",
   "execution_count": null,
   "id": "bbe4806bd5bb9488",
   "metadata": {},
   "outputs": [],
   "source": []
  },
  {
   "cell_type": "code",
   "execution_count": null,
   "id": "620ef4ef0d88a20e",
   "metadata": {},
   "outputs": [],
   "source": []
  },
  {
   "cell_type": "code",
   "execution_count": null,
   "id": "8bb51239",
   "metadata": {},
   "outputs": [],
   "source": [
    "target = \"3699-47246-0026.flac\"\n",
    "reader, chapter, *_ = target.split(\"-\")\n",
    "aw = AudioWorker(os.path.join(openSLR_data_directory, reader, chapter, target)).load()\n",
    "aw.resample(target_sample_rate)\n",
    "_, labels = vad(aw)\n"
   ]
  },
  {
   "cell_type": "code",
   "execution_count": null,
   "id": "cff02a30110a273e",
   "metadata": {},
   "outputs": [],
   "source": [
    "print(aw.wave.shape)\n",
    "\n",
    "items = aw.wave.size(1)\n",
    "reg_width = int(aw.rate * label_region_s)\n",
    "region_hop_width = int(reg_width * (1 - label_overlap_ratio))\n",
    "count = int(np.floor((items - reg_width) / region_hop_width) + 1)\n",
    "\n",
    "print((items - reg_width) / region_hop_width)\n",
    "\n",
    "print(items, reg_width, region_hop_width, count)"
   ]
  }
 ],
 "metadata": {
  "colab": {
   "provenance": []
  },
  "kernelspec": {
   "display_name": "vad_venv",
   "language": "python",
   "name": "python3"
  },
  "language_info": {
   "codemirror_mode": {
    "name": "ipython",
    "version": 3
   },
   "file_extension": ".py",
   "mimetype": "text/x-python",
   "name": "python",
   "nbconvert_exporter": "python",
   "pygments_lexer": "ipython3",
   "version": "3.11.9"
  }
 },
 "nbformat": 4,
 "nbformat_minor": 5
}
