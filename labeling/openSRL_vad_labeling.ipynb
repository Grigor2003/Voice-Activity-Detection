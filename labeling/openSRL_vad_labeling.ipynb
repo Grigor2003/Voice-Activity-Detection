{
 "cells": [
  {
   "metadata": {
    "ExecuteTime": {
     "end_time": "2025-01-29T15:27:51.348211Z",
     "start_time": "2025-01-29T15:27:49.661354Z"
    }
   },
   "cell_type": "code",
   "source": [
    "import wave\n",
    "from time import time\n",
    "\n",
    "import os\n",
    "from tqdm import tqdm\n",
    "import numpy as np\n",
    "import webrtcvad\n",
    "import contextlib\n",
    "import soundfile as sf\n",
    "\n",
    "from other.data.audio_utils import get_files_by_extension"
   ],
   "id": "87cbdd0b96559d5e",
   "outputs": [],
   "execution_count": 1
  },
  {
   "metadata": {
    "ExecuteTime": {
     "end_time": "2025-01-29T15:27:51.353528Z",
     "start_time": "2025-01-29T15:27:51.350220Z"
    }
   },
   "cell_type": "code",
   "source": [
    "target_sample_rate = 8000\n",
    "vad_window_ms = [10, 20, 30][0]\n",
    "vad_overlap_ratio = 0.5"
   ],
   "id": "cb4fd30a1a8f0f5c",
   "outputs": [],
   "execution_count": 2
  },
  {
   "metadata": {
    "ExecuteTime": {
     "end_time": "2025-01-29T15:27:51.504776Z",
     "start_time": "2025-01-29T15:27:51.499143Z"
    }
   },
   "cell_type": "code",
   "source": [
    "class WebrtcVadLabelMaker:\n",
    "    @staticmethod\n",
    "    def read_wave(path):\n",
    "        ext = os.path.splitext(path)[1]\n",
    "        if ext == '.wav':\n",
    "            with contextlib.closing(wave.open(path, 'rb')) as wf:\n",
    "                num_channels = wf.getnchannels()\n",
    "                assert num_channels == 1\n",
    "                sample_width = wf.getsampwidth()\n",
    "                assert sample_width == 2\n",
    "                sample_rate = wf.getframerate()\n",
    "                assert sample_rate in (8000, 16000, 32000, 48000)\n",
    "                pcm_data = wf.readframes(wf.getnframes())\n",
    "                return pcm_data, sample_rate\n",
    "        elif ext == '.flac':\n",
    "            with sf.SoundFile(path, \"r\") as flac_file:\n",
    "                pcm_data = flac_file.read(dtype=\"int16\").tobytes()\n",
    "                sample_rate = flac_file.samplerate\n",
    "                assert sample_rate in (8000, 16000, 32000, 48000)\n",
    "                num_channels = flac_file.channels\n",
    "                assert num_channels == 1\n",
    "                return pcm_data, sample_rate\n",
    "\n",
    "    def __init__(self, mode=2, vad_window_ms=30, vad_overlap_ratio=0, target_sample_rate=16000):\n",
    "        self.vad_window_ms = vad_window_ms\n",
    "        self.vad_overlap_ratio = vad_overlap_ratio\n",
    "        self.vad = webrtcvad.Vad(mode)\n",
    "        self.target_sample_rate = target_sample_rate\n",
    "\n",
    "    def __call__(self, file_path):\n",
    "        wave, rate = WebrtcVadLabelMaker.read_wave(file_path)\n",
    "        if rate != self.target_sample_rate:\n",
    "            print(f\"{file_path} has a rate of {rate} instead of {self.target_sample_rate}\")\n",
    "            return\n",
    "        rate = self.target_sample_rate\n",
    "        window = int(self.vad_window_ms * rate / 1000)\n",
    "        step = int((1 - vad_overlap_ratio) * window)\n",
    "\n",
    "        samples_count = len(wave) // 2\n",
    "        ones_regions = []\n",
    "        last_being = False\n",
    "        n_frames = int((samples_count - window) / step)\n",
    "        for i in range(n_frames):\n",
    "            s = i * step\n",
    "            e = s + window\n",
    "            is_speech = self.vad.is_speech(wave[2 * s:2 * (s + window)], rate)\n",
    "\n",
    "            if last_being and is_speech:  # 1 -> 1\n",
    "                ones_regions[-1] = e\n",
    "            elif not last_being and is_speech:  # 0 -> 1\n",
    "                if not ones_regions or ones_regions[-1] < s:\n",
    "                    ones_regions.extend([s, e])\n",
    "                else:\n",
    "                    ones_regions[-1] = e\n",
    "                last_being = True\n",
    "            else:\n",
    "                last_being = False\n",
    "\n",
    "        return ones_regions\n"
   ],
   "id": "fd6fdbf9523ce23d",
   "outputs": [],
   "execution_count": 3
  },
  {
   "metadata": {
    "ExecuteTime": {
     "end_time": "2025-01-29T15:28:20.572575Z",
     "start_time": "2025-01-29T15:28:19.751360Z"
    }
   },
   "cell_type": "code",
   "source": [
    "openSLR_data_directory, ext = '../data/train-clean-100(converted to 8000 sr)', 'flac'\n",
    "# openSLR_data_directory, ext = \"../data/MSDWild/raw_wav\", 'wav'\n",
    "where_to_save = '../buffer'\n",
    "\n",
    "vad = WebrtcVadLabelMaker(2, vad_window_ms, vad_overlap_ratio, target_sample_rate)\n",
    "\n",
    "audio_files_paths = get_files_by_extension(openSLR_data_directory, ext=ext, rel=True)\n",
    "\n",
    "labels_path = f'{target_sample_rate}_{vad_window_ms}_{int(vad_overlap_ratio * 100)}_webrtc_labels.csv'\n",
    "labels_path = os.path.join(where_to_save, labels_path)\n",
    "data_samples = len(audio_files_paths)\n",
    "print(data_samples, \"files like:\", np.random.choice(audio_files_paths))\n",
    "print(labels_path)"
   ],
   "id": "68f0353eee9da988",
   "outputs": [
    {
     "name": "stdout",
     "output_type": "stream",
     "text": [
      "28539 files like: 8797\\294123\\8797-294123-0068.flac\n",
      "../buffer\\8000_10_50_webrtc_labels.csv\n"
     ]
    }
   ],
   "execution_count": 6
  },
  {
   "cell_type": "code",
   "id": "aec8fc383f9551dc",
   "metadata": {
    "ExecuteTime": {
     "end_time": "2025-01-29T15:29:51.317536Z",
     "start_time": "2025-01-29T15:28:22.512495Z"
    }
   },
   "source": [
    "if data_samples > 0:\n",
    "    with open(labels_path, 'w') as file:\n",
    "        file.write(\"filename,labels\" + '\\n')\n",
    "\n",
    "        t = tqdm(audio_files_paths[:], total=data_samples)\n",
    "        webrtcvad_t, write_t = 0, 0\n",
    "        ma = 0.8\n",
    "        for i, audio_path in enumerate(t):\n",
    "            s_vad = time()\n",
    "            filepath = os.path.join(openSLR_data_directory, audio_path)\n",
    "            one_stamps = vad(filepath)\n",
    "            if one_stamps is None:\n",
    "                continue\n",
    "            e_vad = time()\n",
    "            path_parts = audio_path.split(os.sep)\n",
    "            filename = path_parts[-1]\n",
    "\n",
    "\n",
    "            file.write(filename + ',' + '-'.join(map(str, one_stamps)) + '\\n')\n",
    "            e_write = time()\n",
    "\n",
    "            webrtcvad_t = ma * webrtcvad_t + (1 - ma) * (e_vad - s_vad)\n",
    "            write_t = ma * webrtcvad_t + (1 - ma) * (e_write - e_vad)\n",
    "            if i % 100 == 0:\n",
    "                t.set_description_str(f\"webrtcvad: {webrtcvad_t * 1000:.1f}ms | write: {write_t * 1000:.1f}ms\")\n",
    "\n",
    "else:\n",
    "    print(len(audio_files_paths), \"audio files not found\")"
   ],
   "outputs": [
    {
     "name": "stderr",
     "output_type": "stream",
     "text": [
      "webrtcvad: 3.6ms | write: 2.9ms: 100%|██████████| 28539/28539 [01:28<00:00, 321.38it/s]\n"
     ]
    }
   ],
   "execution_count": 7
  },
  {
   "metadata": {},
   "cell_type": "code",
   "source": [
    "df = pd.read_csv(os.path.join(where_to_save, \"8000_10_50_webrtc_labels.txt\"))\n",
    "with open(\"8000_10_50_webrtc_labels.csv\", 'w') as file:\n",
    "    file.write(\"filename,labels\" + '\\n')\n",
    "    for _, row in tqdm(df.iterrows(), total=data_samples):\n",
    "        k = 0\n",
    "        counts = []\n",
    "        for s in row['labels'].split(\"-\"):\n",
    "            s = int(s)\n",
    "            counts.append(s - k)\n",
    "            k = s\n",
    "        file.write(filename + ',' + '-'.join(map(str, counts)) + '\\n')"
   ],
   "id": "becae7e161470406",
   "outputs": [],
   "execution_count": null
  },
  {
   "metadata": {},
   "cell_type": "code",
   "source": [
    "\n",
    "\n",
    "audio_files_paths = get_files_by_extension(\"../data/MSDWild/raw_wav\", ext='wav', rel=False)\n",
    "\n",
    "means = []\n",
    "maxes = []\n",
    "stds = []\n",
    "mines = []\n",
    "for audio_path in tqdm(audio_files_paths[:3000]):\n",
    "    aw = AudioWorker(audio_path).load()\n",
    "\n",
    "    w = aw.wave\n",
    "    E = w ** 2\n",
    "    means.append(E.mean())\n",
    "    stds.append(E.std())\n",
    "\n",
    "    mines.append(E.min())\n",
    "    maxes.append(E.max())\n",
    "\n",
    "\n"
   ],
   "id": "b38f29741940936b",
   "outputs": [],
   "execution_count": null
  },
  {
   "metadata": {},
   "cell_type": "code",
   "source": "plt.hist(means, bins=100);",
   "id": "9b746886fef98c00",
   "outputs": [],
   "execution_count": null
  },
  {
   "metadata": {},
   "cell_type": "code",
   "source": "plt.hist(stds, bins=100);\n",
   "id": "6da601a215bc7aaf",
   "outputs": [],
   "execution_count": null
  },
  {
   "metadata": {},
   "cell_type": "code",
   "source": "plt.hist(maxes, bins=100);\n",
   "id": "977739b854885a61",
   "outputs": [],
   "execution_count": null
  },
  {
   "metadata": {},
   "cell_type": "code",
   "source": "plt.hist(mines, bins=100);\n",
   "id": "cf6eea4036029a46",
   "outputs": [],
   "execution_count": null
  },
  {
   "metadata": {},
   "cell_type": "code",
   "source": "",
   "id": "bbe4806bd5bb9488",
   "outputs": [],
   "execution_count": null
  },
  {
   "metadata": {},
   "cell_type": "code",
   "source": "",
   "id": "620ef4ef0d88a20e",
   "outputs": [],
   "execution_count": null
  },
  {
   "cell_type": "code",
   "id": "8bb51239",
   "metadata": {},
   "source": [
    "target = \"3699-47246-0026.flac\"\n",
    "reader, chapter, *_ = target.split(\"-\")\n",
    "aw = AudioWorker(os.path.join(openSLR_data_directory, reader, chapter, target)).load()\n",
    "aw.resample(target_sample_rate)\n",
    "_, labels = vad(aw)\n"
   ],
   "outputs": [],
   "execution_count": null
  },
  {
   "cell_type": "code",
   "id": "cff02a30110a273e",
   "metadata": {},
   "source": [
    "print(aw.wave.shape)\n",
    "\n",
    "items = aw.wave.size(1)\n",
    "reg_width = int(aw.rate * label_region_s)\n",
    "region_hop_width = int(reg_width * (1 - label_overlap_ratio))\n",
    "count = int(np.floor((items - reg_width) / region_hop_width) + 1)\n",
    "\n",
    "print((items - reg_width) / region_hop_width)\n",
    "\n",
    "print(items, reg_width, region_hop_width, count)"
   ],
   "outputs": [],
   "execution_count": null
  },
  {
   "cell_type": "code",
   "id": "406e2a4d9b48ceeb",
   "metadata": {},
   "source": [],
   "outputs": [],
   "execution_count": null
  }
 ],
 "metadata": {
  "colab": {
   "provenance": []
  },
  "kernelspec": {
   "display_name": "Python 3",
   "language": "python",
   "name": "python3"
  },
  "language_info": {
   "codemirror_mode": {
    "name": "ipython",
    "version": 3
   },
   "file_extension": ".py",
   "mimetype": "text/x-python",
   "name": "python",
   "nbconvert_exporter": "python",
   "pygments_lexer": "ipython3",
   "version": "3.11.4"
  }
 },
 "nbformat": 4,
 "nbformat_minor": 5
}
