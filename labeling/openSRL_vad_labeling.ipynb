{
 "cells": [
  {
   "cell_type": "code",
   "execution_count": null,
   "id": "87cbdd0b96559d5e",
   "metadata": {
    "ExecuteTime": {
     "end_time": "2025-04-24T11:04:43.288079Z",
     "start_time": "2025-04-24T11:04:43.285072Z"
    }
   },
   "outputs": [],
   "source": [
    "import wave\n",
    "from time import time\n",
    "import torch\n",
    "\n",
    "import os\n",
    "from tqdm import tqdm\n",
    "import numpy as np\n",
    "import webrtcvad\n",
    "import contextlib\n",
    "import soundfile as sf\n",
    "\n",
    "from other.utils import get_files_by_extension"
   ]
  },
  {
   "cell_type": "code",
   "execution_count": null,
   "id": "cb4fd30a1a8f0f5c",
   "metadata": {
    "ExecuteTime": {
     "end_time": "2025-04-24T11:04:43.293864Z",
     "start_time": "2025-04-24T11:04:43.290869Z"
    }
   },
   "outputs": [],
   "source": [
    "target_sample_rate = 16000\n",
    "# vad_window_ms = [10, 20, 30][2]\n",
    "# vad_overlap_ratio = 0.9"
   ]
  },
  {
   "cell_type": "code",
   "execution_count": null,
   "id": "fd6fdbf9523ce23d",
   "metadata": {
    "ExecuteTime": {
     "end_time": "2025-04-24T11:04:43.306179Z",
     "start_time": "2025-04-24T11:04:43.298283Z"
    }
   },
   "outputs": [],
   "source": [
    "class WebrtcVadLabelMaker:\n",
    "    @staticmethod\n",
    "    def read_wave(path):\n",
    "        ext = os.path.splitext(path)[1]\n",
    "        if ext == '.wav':\n",
    "            with contextlib.closing(wave.open(path, 'rb')) as wf:\n",
    "                num_channels = wf.getnchannels()\n",
    "                assert num_channels == 1\n",
    "                sample_width = wf.getsampwidth()\n",
    "                assert sample_width == 2\n",
    "                sample_rate = wf.getframerate()\n",
    "                assert sample_rate in (8000, 16000, 32000, 48000)\n",
    "                pcm_data = wf.readframes(wf.getnframes())\n",
    "                return pcm_data, sample_rate\n",
    "        elif ext == '.flac':\n",
    "            with sf.SoundFile(path, \"r\") as flac_file:\n",
    "                pcm_data = flac_file.read(dtype=\"int16\").tobytes()\n",
    "                sample_rate = flac_file.samplerate\n",
    "                assert sample_rate in (8000, 16000, 32000, 48000)\n",
    "                num_channels = flac_file.channels\n",
    "                assert num_channels == 1\n",
    "                return pcm_data, sample_rate\n",
    "    \n",
    "    @staticmethod   \n",
    "    def find_ones_regions(arr):\n",
    "        diff = np.diff(arr)\n",
    "        starts = np.where(diff == 1)[0] + 1  # +1 because diff shifts left\n",
    "        ends = np.where(diff == -1)[0]\n",
    "        \n",
    "        # Handle edge cases\n",
    "        if arr[0] == 1:\n",
    "            starts = np.insert(starts, 0, 0)\n",
    "        if arr[-1] == 1:\n",
    "            ends = np.append(ends, len(arr) - 1)\n",
    "        \n",
    "        # Ensure starts and ends are the same length\n",
    "        if len(starts) != len(ends):\n",
    "            raise ValueError(\"Mismatch between starts and ends\")\n",
    "        \n",
    "        # Flatten the starts and ends into a single list\n",
    "        result = []\n",
    "        for s, e in zip(starts, ends):\n",
    "            result.extend([s, e])\n",
    "        \n",
    "        return result\n",
    "\n",
    "    def __init__(self, mode=2, vad_window_ms=30, vad_overlap_ratio=0, target_sample_rate=16000, decider_function=None):\n",
    "        self.vad_window_ms = vad_window_ms\n",
    "        self.vad_overlap_ratio = vad_overlap_ratio\n",
    "        self.vad = webrtcvad.Vad(mode)\n",
    "        self.target_sample_rate = target_sample_rate\n",
    "        self.decider_function = decider_function\n",
    "\n",
    "    def __call__(self, file_path):\n",
    "        wave, rate = WebrtcVadLabelMaker.read_wave(file_path)\n",
    "        if rate != self.target_sample_rate:\n",
    "            print(f\"{file_path} has a rate of {rate} instead of {self.target_sample_rate}\")\n",
    "            return\n",
    "        rate = self.target_sample_rate\n",
    "        window = int(self.vad_window_ms * rate / 1000)\n",
    "        step = int((1 - self.vad_overlap_ratio) * window)\n",
    "\n",
    "        samples_count = len(wave) // 2\n",
    "        samples_pred_sum = np.zeros(len(wave), dtype=np.float32)\n",
    "        samples_pred_count = np.zeros(len(wave), dtype=np.float32)\n",
    "\n",
    "        n_frames = int((samples_count - window) / step)\n",
    "        for i in range(n_frames):\n",
    "            s = i * step\n",
    "            e = s + window\n",
    "            is_speech = self.vad.is_speech(wave[2 * s:2 * (s + window)], rate)\n",
    "            samples_pred_sum[s:(s + window)] += is_speech\n",
    "            samples_pred_count[s:(s + window)] += 1\n",
    "\n",
    "        samples_pred = (samples_pred_sum / samples_pred_count) >= 0.5\n",
    "\n",
    "        ones_regions = self.find_ones_regions(samples_pred.astype(np.int32))\n",
    "\n",
    "        return ones_regions"
   ]
  },
  {
   "cell_type": "code",
   "execution_count": null,
   "id": "acdbd9ad",
   "metadata": {
    "ExecuteTime": {
     "end_time": "2025-04-24T11:04:43.317488Z",
     "start_time": "2025-04-24T11:04:43.314216Z"
    }
   },
   "outputs": [],
   "source": [
    "class SileroVadLabelMaker:\n",
    "    def __init__(self, sample_rate=8000):\n",
    "        self.model, utils = torch.hub.load(repo_or_dir='snakers4/silero-vad', model='silero_vad')\n",
    "        (self.get_speech_timestamps, _, self.read_audio, _, _) = utils\n",
    "        self.sample_rate = sample_rate\n",
    "    \n",
    "    def __call__(self, file_path):\n",
    "        wav = self.read_audio(file_path, sampling_rate=self.sample_rate)\n",
    "        speech_timestamps = self.get_speech_timestamps(\n",
    "        wav,\n",
    "        self.model,\n",
    "        return_seconds=False,\n",
    "        sampling_rate=self.sample_rate\n",
    "        )\n",
    "        ones_regions = []\n",
    "        for stamps in speech_timestamps:\n",
    "            ones_regions.append(stamps['start'])\n",
    "            ones_regions.append(stamps['end'])\n",
    "        return ones_regions"
   ]
  },
  {
   "cell_type": "code",
   "execution_count": null,
   "id": "68f0353eee9da988",
   "metadata": {
    "ExecuteTime": {
     "end_time": "2025-04-24T11:04:45.510111Z",
     "start_time": "2025-04-24T11:04:43.328346Z"
    }
   },
   "outputs": [],
   "source": [
    "openSLR_data_directory, ext = r'accent-dataset\\common_accent', 'wav'\n",
    "where_to_save = 'buffer'\n",
    "\n",
    "# vad = WebrtcVadLabelMaker(2, vad_window_ms, vad_overlap_ratio, target_sample_rate)\n",
    "vad = SileroVadLabelMaker(sample_rate=target_sample_rate)\n",
    "\n",
    "audio_files_paths = get_files_by_extension(openSLR_data_directory, ext=ext, rel=True)\n",
    "audio_files_paths = [f for f in audio_files_paths if 'clean' in f]\n",
    "# labels_path = f'{vad.target_sample_rate}_{vad.vad_window_ms}_{int(vad.vad_overlap_ratio * 100)}_webrtc_labels.csv'\n",
    "labels_path = f'{vad.sample_rate}_silero_labels.csv'\n",
    "labels_path = os.path.join(where_to_save, labels_path)\n",
    "data_samples = len(audio_files_paths)\n",
    "print(data_samples, \"files like:\", np.random.choice(audio_files_paths))\n",
    "print(labels_path)"
   ]
  },
  {
   "cell_type": "code",
   "execution_count": null,
   "id": "aec8fc383f9551dc",
   "metadata": {
    "ExecuteTime": {
     "end_time": "2025-04-24T11:05:14.716116Z",
     "start_time": "2025-04-24T11:04:45.523699Z"
    }
   },
   "outputs": [],
   "source": [
    "if data_samples > 0:\n",
    "    with open(labels_path, 'a') as file:\n",
    "        # file.write(\"filename,labels\" + '\\n')\n",
    "\n",
    "        t = tqdm(audio_files_paths[:], total=data_samples)\n",
    "        webrtcvad_t, write_t = 0, 0\n",
    "        ma = 0.8\n",
    "        for i, audio_path in enumerate(t):\n",
    "            s_vad = time()\n",
    "            filepath = os.path.join(openSLR_data_directory, audio_path)\n",
    "            one_stamps = vad(filepath)\n",
    "            if one_stamps is None:\n",
    "                continue\n",
    "            e_vad = time()\n",
    "            path_parts = audio_path.split(os.sep)\n",
    "            filename = path_parts[-1]\n",
    "\n",
    "            file.write(audio_path + ',' + '-'.join(map(str, one_stamps)) + '\\n')\n",
    "            e_write = time()\n",
    "\n",
    "            webrtcvad_t = ma * webrtcvad_t + (1 - ma) * (e_vad - s_vad)\n",
    "            write_t = ma * webrtcvad_t + (1 - ma) * (e_write - e_vad)\n",
    "            if i % 100 == 0:\n",
    "                t.set_description_str(f\"webrtcvad: {webrtcvad_t * 1000:.1f}ms | write: {write_t * 1000:.1f}ms\")\n",
    "\n",
    "else:\n",
    "    print(len(audio_files_paths), \"audio files not found\")"
   ]
  }
 ],
 "metadata": {
  "colab": {
   "provenance": []
  },
  "kernelspec": {
   "display_name": "vad_venv",
   "language": "python",
   "name": "python3"
  },
  "language_info": {
   "codemirror_mode": {
    "name": "ipython",
    "version": 3
   },
   "file_extension": ".py",
   "mimetype": "text/x-python",
   "name": "python",
   "nbconvert_exporter": "python",
   "pygments_lexer": "ipython3",
   "version": "3.11.9"
  }
 },
 "nbformat": 4,
 "nbformat_minor": 5
}
