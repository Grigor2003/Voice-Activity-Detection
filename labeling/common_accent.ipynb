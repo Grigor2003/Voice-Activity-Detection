{
 "cells": [
  {
   "cell_type": "code",
   "execution_count": null,
   "id": "initial_id",
   "metadata": {
    "ExecuteTime": {
     "end_time": "2025-02-23T11:04:11.180124Z",
     "start_time": "2025-02-23T11:04:11.122790Z"
    },
    "collapsed": true
   },
   "outputs": [],
   "source": [
    "!git clone https://huggingface.co/datasets/DTU54DL/common-accent \"accent-dataset/cacc\""
   ]
  },
  {
   "cell_type": "code",
   "execution_count": null,
   "id": "ec16e8f88117a945",
   "metadata": {
    "ExecuteTime": {
     "end_time": "2025-02-23T11:04:13.002558Z",
     "start_time": "2025-02-23T11:04:12.229593Z"
    }
   },
   "outputs": [],
   "source": [
    "import os\n",
    "import shutil\n",
    "import pandas as pd\n",
    "\n",
    "common_accent_dir = \"accent-dataset/cacc\"\n",
    "\n",
    "df_train = pd.read_parquet(os.path.join(common_accent_dir, \"data/train-00000-of-00001-fc6c4977ae9f62c1.parquet\"))\n",
    "df_test = pd.read_parquet(os.path.join(common_accent_dir, \"data/test-00000-of-00001-53b88232efc0bf7e.parquet\"))"
   ]
  },
  {
   "cell_type": "code",
   "execution_count": null,
   "id": "5034edc92bcadcff",
   "metadata": {
    "ExecuteTime": {
     "end_time": "2025-02-23T11:04:13.564760Z",
     "start_time": "2025-02-23T11:04:13.561320Z"
    }
   },
   "outputs": [],
   "source": [
    "english_varieties = {\n",
    "    \"India and South Asia (India, Pakistan, Sri Lanka)\": 'indian',\n",
    "    'German English,Non native speaker': 'german',\n",
    "    \"Southern African (South Africa, Zimbabwe, Namibia)\": 'african',\n",
    "    \"Filipino\": 'filipino',\n",
    "    \"Singaporean English\": 'singaporean',\n",
    "    \"Hong Kong English\": 'hong_kong'\n",
    "}"
   ]
  },
  {
   "cell_type": "code",
   "execution_count": null,
   "id": "88ae701d5a26e019",
   "metadata": {
    "ExecuteTime": {
     "end_time": "2025-02-23T11:04:14.940553Z",
     "start_time": "2025-02-23T11:04:14.538597Z"
    }
   },
   "outputs": [],
   "source": [
    "filtered_df = df_train[df_train[\"accent\"].isin(list(english_varieties.keys()))]\n",
    "x = ['line', 'bar', 'barh', 'kde', 'density', 'area', 'hist', 'box', 'pie', 'scatter', 'hexbin']\n",
    "filtered_df.accent.value_counts().plot(kind='pie',\n",
    "                                       autopct=lambda p: f'{p * filtered_df.accent.value_counts().sum() / 100:.0f}');"
   ]
  },
  {
   "cell_type": "code",
   "execution_count": null,
   "id": "896a2e33c5277599",
   "metadata": {
    "ExecuteTime": {
     "end_time": "2025-02-23T11:04:49.043470Z",
     "start_time": "2025-02-23T11:04:15.295840Z"
    }
   },
   "outputs": [],
   "source": [
    "import torchaudio\n",
    "import io\n",
    "from tqdm import tqdm\n",
    "\n",
    "target_sr = 16000\n",
    "\n",
    "normal_data_dir = os.path.join(common_accent_dir, \"wavs\")\n",
    "normal_data_dir = 'accent-dataset/common_accent'\n",
    "os.makedirs(normal_data_dir, exist_ok=True)\n",
    "for accent in filtered_df.accent.unique():\n",
    "    accent_dir = os.path.join(normal_data_dir, english_varieties[accent])\n",
    "    os.makedirs(accent_dir, exist_ok=True)\n",
    "    with open(os.path.join(accent_dir, \"accent.txt\"), \"w\") as f:\n",
    "        f.write(english_varieties[accent])\n",
    "        \n",
    "with open(os.path.join(normal_data_dir, \"sample_rate.txt\"), \"w\") as f:\n",
    "    f.write(str(target_sr))\n",
    "\n",
    "duration_info_dict = {}\n",
    "rates_info_dict = {}\n",
    "sample_rates = []\n",
    "\n",
    "for i, (au_bytes, sentence, accent) in tqdm([*filtered_df.iterrows()]):\n",
    "    audio_tensor, sample_rate = torchaudio.load(io.BytesIO(au_bytes['bytes']))\n",
    "    audio_tensor = torchaudio.functional.resample(audio_tensor, sample_rate, target_sr)\n",
    "\n",
    "    if accent not in duration_info_dict.keys():\n",
    "        duration_info_dict[accent] = []\n",
    "    if accent not in rates_info_dict.keys():\n",
    "        rates_info_dict[accent] = []\n",
    "\n",
    "    sample_rates.append(sample_rate)\n",
    "    duration_info_dict[accent].append(audio_tensor.size(-1) / sample_rate)\n",
    "    rates_info_dict[accent].append(sample_rate)\n",
    "\n",
    "    # Save as .wav file\n",
    "    accent_dir = os.path.join(normal_data_dir, english_varieties[accent])\n",
    "    filepath = os.path.join(accent_dir, f\"{i}.wav\")\n",
    "    print()\n",
    "    torchaudio.save(filepath, audio_tensor, target_sr)\n",
    "    \n",
    "shutil.rmtree(common_accent_dir)"
   ]
  },
  {
   "cell_type": "code",
   "execution_count": null,
   "id": "c43cfd414dbbfdc",
   "metadata": {
    "ExecuteTime": {
     "end_time": "2025-02-23T11:04:54.468358Z",
     "start_time": "2025-02-23T11:04:54.134988Z"
    }
   },
   "outputs": [],
   "source": [
    "import numpy as np\n",
    "import matplotlib.pyplot as plt\n",
    "\n",
    "num_plots = len(duration_info_dict)\n",
    "rows = (num_plots + 2) // 3  # Ensure enough rows for all plots\n",
    "fig, axes = plt.subplots(rows, 3, figsize=(18, 4 * rows), sharex=True)\n",
    "\n",
    "colors = plt.cm.viridis(np.linspace(0, 1, num_plots))  # Generate distinct colors\n",
    "\n",
    "# Flatten axes array and hide unused subplots\n",
    "axes = axes.flatten()\n",
    "for i in range(len(axes)):\n",
    "    if i >= num_plots:\n",
    "        fig.delaxes(axes[i])  # Remove extra empty subplots\n",
    "\n",
    "for ax, (key, values), color in zip(axes, duration_info_dict.items(), colors):\n",
    "    values = np.array(values)\n",
    "    ax.hist(values, bins=30, density=False, alpha=0.6, edgecolor='black', color=color, log=False)\n",
    "    ax.set_title(f\"Density of {key}\", fontsize=10)\n",
    "    ax.set_ylabel(\"Density\", fontsize=10)\n",
    "    ax.tick_params(axis='both', labelsize=9)\n",
    "\n",
    "# Adjust layout to prevent text overlap\n",
    "plt.tight_layout(h_pad=2, w_pad=2)\n",
    "plt.show()\n"
   ]
  },
  {
   "cell_type": "code",
   "execution_count": null,
   "id": "ff5e812293333b87",
   "metadata": {},
   "outputs": [],
   "source": []
  }
 ],
 "metadata": {
  "kernelspec": {
   "display_name": "vad_venv",
   "language": "python",
   "name": "python3"
  },
  "language_info": {
   "codemirror_mode": {
    "name": "ipython",
    "version": 3
   },
   "file_extension": ".py",
   "mimetype": "text/x-python",
   "name": "python",
   "nbconvert_exporter": "python",
   "pygments_lexer": "ipython3",
   "version": "3.11.9"
  }
 },
 "nbformat": 4,
 "nbformat_minor": 5
}
